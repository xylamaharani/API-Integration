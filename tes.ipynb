{
 "cells": [
  {
   "cell_type": "code",
   "execution_count": 11,
   "metadata": {},
   "outputs": [
    {
     "name": "stdout",
     "output_type": "stream",
     "text": [
      "{'status': 200, 'searchData': {'from': 'SUB', 'to': 'HND', 'date': '2024-03-23', 'type': 'Economy', 'adult': 1, 'child': 0, 'infant': 0, 'currency': 'USD'}, 'results': [{'id': 'eac7b03dbcc802c8b0114136da2e98765fec2edf86342268236ceb8c5e70fc59', 'careerCode': 'CX', 'flight_code': 'CX-780', 'flight_name': 'Cathay Pacific', 'stops': '1 Stop', 'cabinType': 'Economy', 'baggage': {'cabin': {'qty': 1, 'unit': 'KG', 'text': '7 KG', 'allowance': 7}, 'checkIn': {'allowance': 1, 'qty': 'N', 'unit': None, 'text': '1 PIECE', 'refNumber': 1, 'quantity': 1}}, 'currency': 'USD', 'departureAirport': {'time': '2024-03-23T08:20:00', 'code': 'SUB', 'tz': 'Asia/Jakarta', 'timeZone': '7.00', 'type': '2', 'label': 'Juanda International Airport', 'country': {'label': 'Indonesia', 'code': 'ID'}, 'city': 'Surabaya'}, 'arrivalAirport': {'time': '2024-03-24T13:45:00', 'code': 'HND', 'tz': 'Asia/Tokyo', 'timeZone': '9.00', 'type': '1', 'label': 'Haneda Airport', 'country': {'label': 'Japan', 'code': 'JP'}, 'city': 'Tokyo'}, 'path': ['CX-780', 'CX-548'], 'duration': {'text': '27h 25m', 'value': 1645}, 'stopSummary': {'0': {'airport': 'HKG', 'stopDuration': 1115}}, 'totals': {'currency': 'USD', 'baggage': None, 'penalty': None, 'total': 2000, 'tax': 390, 'base': 1610}}, {'id': 'f495e7915a424d3facd10b323555bf6637cbe22087d997bceb0d155583687687', 'careerCode': 'CX', 'flight_code': 'CX-780', 'flight_name': 'Cathay Pacific', 'stops': '1 Stop', 'cabinType': 'Economy', 'baggage': {'cabin': {'qty': 1, 'unit': 'KG', 'text': '7 KG', 'allowance': 7}, 'checkIn': {'allowance': 1, 'qty': 'N', 'unit': None, 'text': '1 PIECE', 'refNumber': 1, 'quantity': 1}}, 'currency': 'USD', 'departureAirport': {'time': '2024-03-23T08:20:00', 'code': 'SUB', 'tz': 'Asia/Jakarta', 'timeZone': '7.00', 'type': '2', 'label': 'Juanda International Airport', 'country': {'label': 'Indonesia', 'code': 'ID'}, 'city': 'Surabaya'}, 'arrivalAirport': {'time': '2024-03-23T21:15:00', 'code': 'HND', 'tz': 'Asia/Tokyo', 'timeZone': '9.00', 'type': '1', 'label': 'Haneda Airport', 'country': {'label': 'Japan', 'code': 'JP'}, 'city': 'Tokyo'}, 'path': ['CX-780', 'CX-542'], 'duration': {'text': '10h 55m', 'value': 655}, 'stopSummary': {'0': {'airport': 'HKG', 'stopDuration': 125}}, 'totals': {'currency': 'USD', 'baggage': None, 'penalty': None, 'total': 3150, 'tax': 330, 'base': 2820}}, {'id': '6597713718ebafaf3f945b353ed53b6576713f637b8f3d21bbab22a24fa69a9e', 'careerCode': 'HR', 'flight_code': 'GA-325', 'flight_name': 'China United Airlines', 'stops': '1 Stop', 'cabinType': 'Economy', 'baggage': {'cabin': {'qty': 1, 'unit': 'KG', 'text': '7 KG', 'allowance': 7}, 'checkIn': {'allowance': 2, 'qty': 'N', 'unit': None, 'text': '2 PIECE', 'refNumber': 2, 'quantity': 2}}, 'currency': 'USD', 'departureAirport': {'time': '2024-03-23T18:40:00', 'code': 'SUB', 'tz': 'Asia/Jakarta', 'timeZone': '7.00', 'type': '2', 'label': 'Juanda International Airport', 'country': {'label': 'Indonesia', 'code': 'ID'}, 'city': 'Surabaya'}, 'arrivalAirport': {'time': '2024-03-24T08:50:00', 'code': 'HND', 'tz': 'Asia/Tokyo', 'timeZone': '9.00', 'type': '1', 'label': 'Haneda Airport', 'country': {'label': 'Japan', 'code': 'JP'}, 'city': 'Tokyo'}, 'path': ['GA-325', 'JL-5012'], 'duration': {'text': '12h 10m', 'value': 730}, 'stopSummary': {'0': {'airport': 'CGK', 'stopDuration': 200}}, 'totals': {'currency': 'USD', 'baggage': None, 'penalty': None, 'total': 3700, 'tax': 840, 'base': 2860}}, {'id': 'fde0db7eec37248e14a6703f60002298d82a5e3a86dcfbb8c64eade12ced3961', 'careerCode': 'NH', 'flight_code': 'GA-313', 'flight_name': 'All Nippon Airways', 'stops': '1 Stop', 'cabinType': 'Economy', 'baggage': {'cabin': {'qty': 1, 'unit': 'KG', 'text': '7 KG', 'allowance': 7}, 'checkIn': {'allowance': 2, 'qty': 'N', 'unit': None, 'text': '2 PIECE', 'refNumber': 2, 'quantity': 2}}, 'currency': 'USD', 'departureAirport': {'time': '2024-03-23T20:10:00', 'code': 'SUB', 'tz': 'Asia/Jakarta', 'timeZone': '7.00', 'type': '2', 'label': 'Juanda International Airport', 'country': {'label': 'Indonesia', 'code': 'ID'}, 'city': 'Surabaya'}, 'arrivalAirport': {'time': '2024-03-24T16:25:00', 'code': 'HND', 'tz': 'Asia/Tokyo', 'timeZone': '9.00', 'type': '1', 'label': 'Haneda Airport', 'country': {'label': 'Japan', 'code': 'JP'}, 'city': 'Tokyo'}, 'path': ['GA-313', 'NH-872'], 'duration': {'text': '18h 15m', 'value': 1095}, 'stopSummary': {'0': {'airport': 'CGK', 'stopDuration': 570}}, 'totals': {'currency': 'USD', 'baggage': None, 'penalty': None, 'total': 3780, 'tax': 740, 'base': 3040}}, {'id': 'f0614aca07dbbb3f15176db7cd13d65eace1e9dba166992f842af38415192a49', 'careerCode': 'NH', 'flight_code': 'GA-315', 'flight_name': 'All Nippon Airways', 'stops': '1 Stop', 'cabinType': 'Economy', 'baggage': {'cabin': {'qty': 1, 'unit': 'KG', 'text': '7 KG', 'allowance': 7}, 'checkIn': {'allowance': 2, 'qty': 'N', 'unit': None, 'text': '2 PIECE', 'refNumber': 2, 'quantity': 2}}, 'currency': 'USD', 'departureAirport': {'time': '2024-03-23T16:30:00', 'code': 'SUB', 'tz': 'Asia/Jakarta', 'timeZone': '7.00', 'type': '2', 'label': 'Juanda International Airport', 'country': {'label': 'Indonesia', 'code': 'ID'}, 'city': 'Surabaya'}, 'arrivalAirport': {'time': '2024-03-24T06:50:00', 'code': 'HND', 'tz': 'Asia/Tokyo', 'timeZone': '9.00', 'type': '1', 'label': 'Haneda Airport', 'country': {'label': 'Japan', 'code': 'JP'}, 'city': 'Tokyo'}, 'path': ['GA-315', 'NH-856'], 'duration': {'text': '12h 20m', 'value': 740}, 'stopSummary': {'0': {'airport': 'CGK', 'stopDuration': 215}}, 'totals': {'currency': 'USD', 'baggage': None, 'penalty': None, 'total': 4130, 'tax': 740, 'base': 3390}}, {'id': 'b586a043dc90c5c72eb0a8a126a1876bc25dfbaae60c4a1bc8abf8f41b37ac87', 'careerCode': 'NH', 'flight_code': 'NH-5542', 'flight_name': 'All Nippon Airways', 'stops': '1 Stop', 'cabinType': 'Economy', 'baggage': {'cabin': {'qty': 1, 'unit': 'KG', 'text': '7 KG', 'allowance': 7}, 'checkIn': {'allowance': 2, 'qty': 'N', 'unit': None, 'text': '2 PIECE', 'refNumber': 2, 'quantity': 2}}, 'currency': 'USD', 'departureAirport': {'time': '2024-03-23T16:30:00', 'code': 'SUB', 'tz': 'Asia/Jakarta', 'timeZone': '7.00', 'type': '2', 'label': 'Juanda International Airport', 'country': {'label': 'Indonesia', 'code': 'ID'}, 'city': 'Surabaya'}, 'arrivalAirport': {'time': '2024-03-24T06:50:00', 'code': 'HND', 'tz': 'Asia/Tokyo', 'timeZone': '9.00', 'type': '1', 'label': 'Haneda Airport', 'country': {'label': 'Japan', 'code': 'JP'}, 'city': 'Tokyo'}, 'path': ['NH-5542', 'NH-856'], 'duration': {'text': '12h 20m', 'value': 740}, 'stopSummary': {'0': {'airport': 'CGK', 'stopDuration': 215}}, 'totals': {'currency': 'USD', 'baggage': None, 'penalty': None, 'total': 4160, 'tax': 770, 'base': 3390}}, {'id': 'ef6da49ef18425f664b82d19c9f32dd62b102040c642420fb53bc6df4fe38fdb', 'careerCode': 'SQ', 'flight_code': 'SQ-929', 'flight_name': 'Singapore International Airlines', 'stops': '1 Stop', 'cabinType': 'Economy', 'baggage': {'cabin': {'qty': 1, 'unit': 'KG', 'text': '7 KG', 'allowance': 7}, 'checkIn': {'allowance': 30, 'qty': 'W', 'unit': 'K', 'text': '30 KG', 'refNumber': 3, 'totalWeight': 30, 'quantity': 1}}, 'currency': 'USD', 'departureAirport': {'time': '2024-03-23T18:40:00', 'code': 'SUB', 'tz': 'Asia/Jakarta', 'timeZone': '7.00', 'type': '2', 'label': 'Juanda International Airport', 'country': {'label': 'Indonesia', 'code': 'ID'}, 'city': 'Surabaya'}, 'arrivalAirport': {'time': '2024-03-24T06:20:00', 'code': 'HND', 'tz': 'Asia/Tokyo', 'timeZone': '9.00', 'type': '1', 'label': 'Haneda Airport', 'country': {'label': 'Japan', 'code': 'JP'}, 'city': 'Tokyo'}, 'path': ['SQ-929', 'SQ-636'], 'duration': {'text': '09h 40m', 'value': 580}, 'stopSummary': {'0': {'airport': 'SIN', 'stopDuration': 50}}, 'totals': {'currency': 'USD', 'baggage': None, 'penalty': None, 'total': 4470, 'tax': 170, 'base': 4300}}, {'id': '7efcf8bf487e760b2176312a25d8585d6a0e1c49736cb4005c93a4a878739c44', 'careerCode': 'GP', 'flight_code': 'GA-313', 'flight_name': 'Gadair European Airlines', 'stops': '1 Stop', 'cabinType': 'Economy', 'baggage': {'cabin': {'qty': 1, 'unit': 'KG', 'text': '7 KG', 'allowance': 7}, 'checkIn': {'allowance': 46, 'qty': 'W', 'unit': 'K', 'text': '46 KG', 'refNumber': 4, 'totalWeight': 46, 'quantity': 2, 'perPieceWeight': 32, 'perPieceWeightFlag': 'FIRST'}}, 'currency': 'USD', 'departureAirport': {'time': '2024-03-23T20:10:00', 'code': 'SUB', 'tz': 'Asia/Jakarta', 'timeZone': '7.00', 'type': '2', 'label': 'Juanda International Airport', 'country': {'label': 'Indonesia', 'code': 'ID'}, 'city': 'Surabaya'}, 'arrivalAirport': {'time': '2024-03-24T08:50:00', 'code': 'HND', 'tz': 'Asia/Tokyo', 'timeZone': '9.00', 'type': '1', 'label': 'Haneda Airport', 'country': {'label': 'Japan', 'code': 'JP'}, 'city': 'Tokyo'}, 'path': ['GA-313', 'GA-874'], 'duration': {'text': '10h 40m', 'value': 640}, 'stopSummary': {'0': {'airport': 'CGK', 'stopDuration': 110}}, 'totals': {'currency': 'USD', 'baggage': None, 'penalty': None, 'total': 4740, 'tax': 720, 'base': 4020}}, {'id': 'f17c62a28a0fbd96bba3622d22af7734bcc12a1f2c500189afa002f10389e75c', 'careerCode': 'GP', 'flight_code': 'GA-342', 'flight_name': 'Gadair European Airlines', 'stops': '2 Stops', 'cabinType': 'Economy', 'baggage': {'cabin': {'qty': 1, 'unit': 'KG', 'text': '7 KG', 'allowance': 7}, 'checkIn': {'allowance': 46, 'qty': 'W', 'unit': 'K', 'text': '46 KG', 'refNumber': 4, 'totalWeight': 46, 'quantity': 2, 'perPieceWeight': 32, 'perPieceWeightFlag': 'FIRST'}}, 'currency': 'USD', 'departureAirport': {'time': '2024-03-23T09:20:00', 'code': 'SUB', 'tz': 'Asia/Jakarta', 'timeZone': '7.00', 'type': '2', 'label': 'Juanda International Airport', 'country': {'label': 'Indonesia', 'code': 'ID'}, 'city': 'Surabaya'}, 'arrivalAirport': {'time': '2024-03-24T08:50:00', 'code': 'HND', 'tz': 'Asia/Tokyo', 'timeZone': '9.00', 'type': '1', 'label': 'Haneda Airport', 'country': {'label': 'Japan', 'code': 'JP'}, 'city': 'Tokyo'}, 'path': ['GA-342', 'GA-411', 'GA-874'], 'duration': {'text': '21h 30m', 'value': 1290}, 'stopSummary': {'0': {'airport': 'DPS', 'stopDuration': 275}, '1': {'airport': 'CGK', 'stopDuration': 395}}, 'totals': {'currency': 'USD', 'baggage': None, 'penalty': None, 'total': 4990, 'tax': 760, 'base': 4230}}, {'id': '5f04cba7ed4c6c895bad42cd6c1a10a587aef547f5ab81819d2fab8a0286acbd', 'careerCode': 'GP', 'flight_code': 'GA-342', 'flight_name': 'Gadair European Airlines', 'stops': '2 Stops', 'cabinType': 'Economy', 'baggage': {'cabin': {'qty': 1, 'unit': 'KG', 'text': '7 KG', 'allowance': 7}, 'checkIn': {'allowance': 46, 'qty': 'W', 'unit': 'K', 'text': '46 KG', 'refNumber': 4, 'totalWeight': 46, 'quantity': 2, 'perPieceWeight': 32, 'perPieceWeightFlag': 'FIRST'}}, 'currency': 'USD', 'departureAirport': {'time': '2024-03-23T09:20:00', 'code': 'SUB', 'tz': 'Asia/Jakarta', 'timeZone': '7.00', 'type': '2', 'label': 'Juanda International Airport', 'country': {'label': 'Indonesia', 'code': 'ID'}, 'city': 'Surabaya'}, 'arrivalAirport': {'time': '2024-03-24T08:50:00', 'code': 'HND', 'tz': 'Asia/Tokyo', 'timeZone': '9.00', 'type': '1', 'label': 'Haneda Airport', 'country': {'label': 'Japan', 'code': 'JP'}, 'city': 'Tokyo'}, 'path': ['GA-342', 'GA-415', 'GA-874'], 'duration': {'text': '21h 30m', 'value': 1290}, 'stopSummary': {'0': {'airport': 'DPS', 'stopDuration': 470}, '1': {'airport': 'CGK', 'stopDuration': 210}}, 'totals': {'currency': 'USD', 'baggage': None, 'penalty': None, 'total': 4990, 'tax': 760, 'base': 4230}}, {'id': '66790d7e12655c056c00486708f903188656f6a3766646f15d92caa44727a5d6', 'careerCode': 'GP', 'flight_code': 'GA-342', 'flight_name': 'Gadair European Airlines', 'stops': '2 Stops', 'cabinType': 'Economy', 'baggage': {'cabin': {'qty': 1, 'unit': 'KG', 'text': '7 KG', 'allowance': 7}, 'checkIn': {'allowance': 46, 'qty': 'W', 'unit': 'K', 'text': '46 KG', 'refNumber': 4, 'totalWeight': 46, 'quantity': 2, 'perPieceWeight': 32, 'perPieceWeightFlag': 'FIRST'}}, 'currency': 'USD', 'departureAirport': {'time': '2024-03-23T09:20:00', 'code': 'SUB', 'tz': 'Asia/Jakarta', 'timeZone': '7.00', 'type': '2', 'label': 'Juanda International Airport', 'country': {'label': 'Indonesia', 'code': 'ID'}, 'city': 'Surabaya'}, 'arrivalAirport': {'time': '2024-03-24T08:50:00', 'code': 'HND', 'tz': 'Asia/Tokyo', 'timeZone': '9.00', 'type': '1', 'label': 'Haneda Airport', 'country': {'label': 'Japan', 'code': 'JP'}, 'city': 'Tokyo'}, 'path': ['GA-342', 'GA-417', 'GA-874'], 'duration': {'text': '21h 30m', 'value': 1290}, 'stopSummary': {'0': {'airport': 'DPS', 'stopDuration': 440}, '1': {'airport': 'CGK', 'stopDuration': 235}}, 'totals': {'currency': 'USD', 'baggage': None, 'penalty': None, 'total': 4990, 'tax': 760, 'base': 4230}}, {'id': '2b634ce8a19b638146794b980ff37fd99afa649f88f9c6c5d8d1732c78bddf67', 'careerCode': 'GP', 'flight_code': 'GA-342', 'flight_name': 'Gadair European Airlines', 'stops': '2 Stops', 'cabinType': 'Economy', 'baggage': {'cabin': {'qty': 1, 'unit': 'KG', 'text': '7 KG', 'allowance': 7}, 'checkIn': {'allowance': 46, 'qty': 'W', 'unit': 'K', 'text': '46 KG', 'refNumber': 4, 'totalWeight': 46, 'quantity': 2, 'perPieceWeight': 32, 'perPieceWeightFlag': 'FIRST'}}, 'currency': 'USD', 'departureAirport': {'time': '2024-03-23T09:20:00', 'code': 'SUB', 'tz': 'Asia/Jakarta', 'timeZone': '7.00', 'type': '2', 'label': 'Juanda International Airport', 'country': {'label': 'Indonesia', 'code': 'ID'}, 'city': 'Surabaya'}, 'arrivalAirport': {'time': '2024-03-24T08:50:00', 'code': 'HND', 'tz': 'Asia/Tokyo', 'timeZone': '9.00', 'type': '1', 'label': 'Haneda Airport', 'country': {'label': 'Japan', 'code': 'JP'}, 'city': 'Tokyo'}, 'path': ['GA-342', 'GA-419', 'GA-874'], 'duration': {'text': '21h 30m', 'value': 1290}, 'stopSummary': {'0': {'airport': 'DPS', 'stopDuration': 360}, '1': {'airport': 'CGK', 'stopDuration': 310}}, 'totals': {'currency': 'USD', 'baggage': None, 'penalty': None, 'total': 4990, 'tax': 760, 'base': 4230}}, {'id': '1f69d77e1a823ce9e234ba18926ecbb8181d4055be68797931e4d4b1a9659b02', 'careerCode': 'GP', 'flight_code': 'GA-342', 'flight_name': 'Gadair European Airlines', 'stops': '2 Stops', 'cabinType': 'Economy', 'baggage': {'cabin': {'qty': 1, 'unit': 'KG', 'text': '7 KG', 'allowance': 7}, 'checkIn': {'allowance': 46, 'qty': 'W', 'unit': 'K', 'text': '46 KG', 'refNumber': 4, 'totalWeight': 46, 'quantity': 2, 'perPieceWeight': 32, 'perPieceWeightFlag': 'FIRST'}}, 'currency': 'USD', 'departureAirport': {'time': '2024-03-23T09:20:00', 'code': 'SUB', 'tz': 'Asia/Jakarta', 'timeZone': '7.00', 'type': '2', 'label': 'Juanda International Airport', 'country': {'label': 'Indonesia', 'code': 'ID'}, 'city': 'Surabaya'}, 'arrivalAirport': {'time': '2024-03-24T08:50:00', 'code': 'HND', 'tz': 'Asia/Tokyo', 'timeZone': '9.00', 'type': '1', 'label': 'Haneda Airport', 'country': {'label': 'Japan', 'code': 'JP'}, 'city': 'Tokyo'}, 'path': ['GA-342', 'GA-421', 'GA-874'], 'duration': {'text': '21h 30m', 'value': 1290}, 'stopSummary': {'0': {'airport': 'DPS', 'stopDuration': 320}, '1': {'airport': 'CGK', 'stopDuration': 350}}, 'totals': {'currency': 'USD', 'baggage': None, 'penalty': None, 'total': 4990, 'tax': 760, 'base': 4230}}, {'id': 'ea85725321f0f4ae70e2202a9e956278e952a9e6b40be9f54a0db2817407a1d8', 'careerCode': 'GP', 'flight_code': 'GA-342', 'flight_name': 'Gadair European Airlines', 'stops': '2 Stops', 'cabinType': 'Economy', 'baggage': {'cabin': {'qty': 1, 'unit': 'KG', 'text': '7 KG', 'allowance': 7}, 'checkIn': {'allowance': 46, 'qty': 'W', 'unit': 'K', 'text': '46 KG', 'refNumber': 4, 'totalWeight': 46, 'quantity': 2, 'perPieceWeight': 32, 'perPieceWeightFlag': 'FIRST'}}, 'currency': 'USD', 'departureAirport': {'time': '2024-03-23T09:20:00', 'code': 'SUB', 'tz': 'Asia/Jakarta', 'timeZone': '7.00', 'type': '2', 'label': 'Juanda International Airport', 'country': {'label': 'Indonesia', 'code': 'ID'}, 'city': 'Surabaya'}, 'arrivalAirport': {'time': '2024-03-24T08:50:00', 'code': 'HND', 'tz': 'Asia/Tokyo', 'timeZone': '9.00', 'type': '1', 'label': 'Haneda Airport', 'country': {'label': 'Japan', 'code': 'JP'}, 'city': 'Tokyo'}, 'path': ['GA-342', 'GA-409', 'GA-874'], 'duration': {'text': '21h 30m', 'value': 1290}, 'stopSummary': {'0': {'airport': 'DPS', 'stopDuration': 145}, '1': {'airport': 'CGK', 'stopDuration': 530}}, 'totals': {'currency': 'USD', 'baggage': None, 'penalty': None, 'total': 4990, 'tax': 760, 'base': 4230}}, {'id': '4fa0e8822d1b63e257175866e52366391a222ca79711444612f1de6c6cd8cba3', 'careerCode': 'GP', 'flight_code': 'GA-342', 'flight_name': 'Gadair European Airlines', 'stops': '2 Stops', 'cabinType': 'Economy', 'baggage': {'cabin': {'qty': 1, 'unit': 'KG', 'text': '7 KG', 'allowance': 7}, 'checkIn': {'allowance': 46, 'qty': 'W', 'unit': 'K', 'text': '46 KG', 'refNumber': 4, 'totalWeight': 46, 'quantity': 2, 'perPieceWeight': 32, 'perPieceWeightFlag': 'FIRST'}}, 'currency': 'USD', 'departureAirport': {'time': '2024-03-23T09:20:00', 'code': 'SUB', 'tz': 'Asia/Jakarta', 'timeZone': '7.00', 'type': '2', 'label': 'Juanda International Airport', 'country': {'label': 'Indonesia', 'code': 'ID'}, 'city': 'Surabaya'}, 'arrivalAirport': {'time': '2024-03-25T08:50:00', 'code': 'HND', 'tz': 'Asia/Tokyo', 'timeZone': '9.00', 'type': '1', 'label': 'Haneda Airport', 'country': {'label': 'Japan', 'code': 'JP'}, 'city': 'Tokyo'}, 'path': ['GA-342', 'GA-401', 'GA-874'], 'duration': {'text': '45h 30m', 'value': 2730}, 'stopSummary': {'0': {'airport': 'DPS', 'stopDuration': 1180}, '1': {'airport': 'CGK', 'stopDuration': 935}}, 'totals': {'currency': 'USD', 'baggage': None, 'penalty': None, 'total': 4990, 'tax': 760, 'base': 4230}}, {'id': '852480a73614163c319c8244d3d0f549a45146c128deaf7926b7d29071606b21', 'careerCode': 'NH', 'flight_code': 'GA-313', 'flight_name': 'All Nippon Airways', 'stops': '1 Stop', 'cabinType': 'Economy', 'baggage': {'cabin': {'qty': 1, 'unit': 'KG', 'text': '7 KG', 'allowance': 7}, 'checkIn': {'allowance': 2, 'qty': 'N', 'unit': None, 'text': '2 PIECE', 'refNumber': 2, 'quantity': 2}}, 'currency': 'USD', 'departureAirport': {'time': '2024-03-23T20:10:00', 'code': 'SUB', 'tz': 'Asia/Jakarta', 'timeZone': '7.00', 'type': '2', 'label': 'Juanda International Airport', 'country': {'label': 'Indonesia', 'code': 'ID'}, 'city': 'Surabaya'}, 'arrivalAirport': {'time': '2024-03-24T08:50:00', 'code': 'HND', 'tz': 'Asia/Tokyo', 'timeZone': '9.00', 'type': '1', 'label': 'Haneda Airport', 'country': {'label': 'Japan', 'code': 'JP'}, 'city': 'Tokyo'}, 'path': ['GA-313', 'NH-5480'], 'duration': {'text': '10h 40m', 'value': 640}, 'stopSummary': {'0': {'airport': 'CGK', 'stopDuration': 110}}, 'totals': {'currency': 'USD', 'baggage': None, 'penalty': None, 'total': 7690, 'tax': 740, 'base': 6950}}, {'id': '689d7b67f47a6e96bd63a0d5d7fe38f3e1a17edf446dd712cadfd7c20c3e14ac', 'careerCode': 'NH', 'flight_code': 'NH-5542', 'flight_name': 'All Nippon Airways', 'stops': '1 Stop', 'cabinType': 'Economy', 'baggage': {'cabin': {'qty': 1, 'unit': 'KG', 'text': '7 KG', 'allowance': 7}, 'checkIn': {'allowance': 2, 'qty': 'N', 'unit': None, 'text': '2 PIECE', 'refNumber': 2, 'quantity': 2}}, 'currency': 'USD', 'departureAirport': {'time': '2024-03-23T16:30:00', 'code': 'SUB', 'tz': 'Asia/Jakarta', 'timeZone': '7.00', 'type': '2', 'label': 'Juanda International Airport', 'country': {'label': 'Indonesia', 'code': 'ID'}, 'city': 'Surabaya'}, 'arrivalAirport': {'time': '2024-03-24T08:50:00', 'code': 'HND', 'tz': 'Asia/Tokyo', 'timeZone': '9.00', 'type': '1', 'label': 'Haneda Airport', 'country': {'label': 'Japan', 'code': 'JP'}, 'city': 'Tokyo'}, 'path': ['NH-5542', 'NH-5480'], 'duration': {'text': '14h 20m', 'value': 860}, 'stopSummary': {'0': {'airport': 'CGK', 'stopDuration': 325}}, 'totals': {'currency': 'USD', 'baggage': None, 'penalty': None, 'total': 7720, 'tax': 770, 'base': 6950}}, {'id': '229c88f87d4b2c54c535514e36a4878aa7ac837453f8d09be0751e1be3a832a6', 'careerCode': 'HR', 'flight_code': 'JL-6912', 'flight_name': 'China United Airlines', 'stops': '1 Stop', 'cabinType': 'Economy', 'baggage': {'cabin': {'qty': 1, 'unit': 'KG', 'text': '7 KG', 'allowance': 7}, 'checkIn': {'allowance': 2, 'qty': 'N', 'unit': None, 'text': '2 PIECE', 'refNumber': 2, 'quantity': 2}}, 'currency': 'USD', 'departureAirport': {'time': '2024-03-23T18:40:00', 'code': 'SUB', 'tz': 'Asia/Jakarta', 'timeZone': '7.00', 'type': '2', 'label': 'Juanda International Airport', 'country': {'label': 'Indonesia', 'code': 'ID'}, 'city': 'Surabaya'}, 'arrivalAirport': {'time': '2024-03-24T08:50:00', 'code': 'HND', 'tz': 'Asia/Tokyo', 'timeZone': '9.00', 'type': '1', 'label': 'Haneda Airport', 'country': {'label': 'Japan', 'code': 'JP'}, 'city': 'Tokyo'}, 'path': ['JL-6912', 'JL-5012'], 'duration': {'text': '12h 10m', 'value': 730}, 'stopSummary': {'0': {'airport': 'CGK', 'stopDuration': 200}}, 'totals': {'currency': 'USD', 'baggage': None, 'penalty': None, 'total': 7790, 'tax': 840, 'base': 6950}}, {'id': 'c7627f13b83de9bff42b7263862720db2001ae86b597ca96d59ebdb2a2b1fc71', 'careerCode': 'CX', 'flight_code': 'CX-780', 'flight_name': 'Cathay Pacific', 'stops': '2 Stops', 'cabinType': 'Economy', 'baggage': {'cabin': {'qty': 1, 'unit': 'KG', 'text': '7 KG', 'allowance': 7}, 'checkIn': {'allowance': 1, 'qty': 'N', 'unit': None, 'text': '1 PIECE', 'refNumber': 1, 'quantity': 1}}, 'currency': 'USD', 'departureAirport': {'time': '2024-03-23T08:20:00', 'code': 'SUB', 'tz': 'Asia/Jakarta', 'timeZone': '7.00', 'type': '2', 'label': 'Juanda International Airport', 'country': {'label': 'Indonesia', 'code': 'ID'}, 'city': 'Surabaya'}, 'arrivalAirport': {'time': '2024-03-23T23:30:00', 'code': 'HND', 'tz': 'Asia/Tokyo', 'timeZone': '9.00', 'type': '1', 'label': 'Haneda Airport', 'country': {'label': 'Japan', 'code': 'JP'}, 'city': 'Tokyo'}, 'path': ['CX-780', 'CX-502', 'NH-100'], 'duration': {'text': '13h 10m', 'value': 790}, 'stopSummary': {'0': {'airport': 'HKG', 'stopDuration': 135}, '1': {'airport': 'KIX', 'stopDuration': 80}}, 'totals': {'currency': 'USD', 'baggage': None, 'penalty': None, 'total': 9400, 'tax': 360, 'base': 9040}}]}\n"
     ]
    }
   ],
   "source": [
    "import requests\n",
    "\n",
    "url = \"https://flight-fare-search.p.rapidapi.com/v2/flights/\"\n",
    "\n",
    "querystring = {\"from\":\"SUB\",\"to\":\"HND\",\"date\":\"2024-03-23\",\"adult\":\"1\",\"type\":\"economy\",\"currency\":\"USD\"}\n",
    "\n",
    "headers = {\n",
    "\t\"X-RapidAPI-Key\": \"9cc8be294bmsh502182750eb8c0dp1d1afcjsn7c3940e4e5b5\",\n",
    "\t\"X-RapidAPI-Host\": \"flight-fare-search.p.rapidapi.com\"\n",
    "}\n",
    "\n",
    "response = requests.get(url, headers=headers, params=querystring)\n",
    "\n",
    "print(response.json())"
   ]
  },
  {
   "cell_type": "code",
   "execution_count": 8,
   "metadata": {},
   "outputs": [
    {
     "name": "stdout",
     "output_type": "stream",
     "text": [
      "[{'id': 'e4061c4b45b77f4da06d224c1f242db7c4ab7f450df90e594e0211b77abf7b9c', 'careerCode': 'CX', 'flight_code': 'CX-780', 'flight_name': 'Cathay Pacific', 'stops': '1 Stop', 'cabinType': 'Economy', 'baggage': {'cabin': {'qty': 1, 'unit': 'KG', 'text': '7 KG', 'allowance': 7}, 'checkIn': {'allowance': 1, 'qty': 'N', 'unit': None, 'text': '1 PIECE', 'refNumber': 1, 'quantity': 1}}, 'currency': 'USD', 'departureAirport': {'time': '2024-03-21T08:20:00', 'code': 'SUB', 'tz': 'Asia/Jakarta', 'timeZone': '7.00', 'type': '2', 'label': 'Juanda International Airport', 'country': {'label': 'Indonesia', 'code': 'ID'}, 'city': 'Surabaya'}, 'arrivalAirport': {'time': '2024-03-21T21:15:00', 'code': 'HND', 'tz': 'Asia/Tokyo', 'timeZone': '9.00', 'type': '1', 'label': 'Haneda Airport', 'country': {'label': 'Japan', 'code': 'JP'}, 'city': 'Tokyo'}, 'path': ['CX-780', 'CX-542'], 'duration': {'text': '10h 55m', 'value': 655}, 'stopSummary': {'0': {'airport': 'HKG', 'stopDuration': 125}}, 'totals': {'currency': 'USD', 'baggage': None, 'penalty': None, 'total': 535.84, 'tax': 89.76, 'base': 446.08000000000004}}, {'id': '015e527b4d328c05525d7c0912efbf66dff807b2cec15a6cde4265fb83d56aa6', 'careerCode': 'CX', 'flight_code': 'CX-780', 'flight_name': 'Cathay Pacific', 'stops': '1 Stop', 'cabinType': 'Economy', 'baggage': {'cabin': {'qty': 1, 'unit': 'KG', 'text': '7 KG', 'allowance': 7}, 'checkIn': {'allowance': 1, 'qty': 'N', 'unit': None, 'text': '1 PIECE', 'refNumber': 1, 'quantity': 1}}, 'currency': 'USD', 'departureAirport': {'time': '2024-03-21T08:20:00', 'code': 'SUB', 'tz': 'Asia/Jakarta', 'timeZone': '7.00', 'type': '2', 'label': 'Juanda International Airport', 'country': {'label': 'Indonesia', 'code': 'ID'}, 'city': 'Surabaya'}, 'arrivalAirport': {'time': '2024-03-22T13:45:00', 'code': 'HND', 'tz': 'Asia/Tokyo', 'timeZone': '9.00', 'type': '1', 'label': 'Haneda Airport', 'country': {'label': 'Japan', 'code': 'JP'}, 'city': 'Tokyo'}, 'path': ['CX-780', 'CX-548'], 'duration': {'text': '27h 25m', 'value': 1645}, 'stopSummary': {'0': {'airport': 'HKG', 'stopDuration': 1115}}, 'totals': {'currency': 'USD', 'baggage': None, 'penalty': None, 'total': 932.96, 'tax': 106.08000000000001, 'base': 826.8800000000001}}, {'id': '60f438bcc89d62de4e1e3b5e56d2c9eca4c05672dc7bcfd7f0b02f233e54b895', 'careerCode': 'NH', 'flight_code': 'SQ-927', 'flight_name': 'All Nippon Airways', 'stops': '1 Stop', 'cabinType': 'Economy', 'baggage': {'cabin': {'qty': 1, 'unit': 'KG', 'text': '7 KG', 'allowance': 7}, 'checkIn': {'allowance': 2, 'qty': 'N', 'unit': None, 'text': '2 PIECE', 'refNumber': 2, 'quantity': 2}}, 'currency': 'USD', 'departureAirport': {'time': '2024-03-21T16:30:00', 'code': 'SUB', 'tz': 'Asia/Jakarta', 'timeZone': '7.00', 'type': '2', 'label': 'Juanda International Airport', 'country': {'label': 'Indonesia', 'code': 'ID'}, 'city': 'Surabaya'}, 'arrivalAirport': {'time': '2024-03-22T05:55:00', 'code': 'HND', 'tz': 'Asia/Tokyo', 'timeZone': '9.00', 'type': '1', 'label': 'Haneda Airport', 'country': {'label': 'Japan', 'code': 'JP'}, 'city': 'Tokyo'}, 'path': ['SQ-927', 'NH-844'], 'duration': {'text': '11h 25m', 'value': 685}, 'stopSummary': {'0': {'airport': 'SIN', 'stopDuration': 145}}, 'totals': {'currency': 'USD', 'baggage': None, 'penalty': None, 'total': 960.1600000000001, 'tax': 160.48000000000002, 'base': 799.6800000000001}}, {'id': 'a3bf9b466d14e78e814a4e7c20825f0e6cf6b07d392373bd19a40c2059e62700', 'careerCode': 'HR', 'flight_code': 'GA-319', 'flight_name': 'China United Airlines', 'stops': '1 Stop', 'cabinType': 'Economy', 'baggage': {'cabin': {'qty': 1, 'unit': 'KG', 'text': '7 KG', 'allowance': 7}, 'checkIn': {'allowance': 2, 'qty': 'N', 'unit': None, 'text': '2 PIECE', 'refNumber': 2, 'quantity': 2}}, 'currency': 'USD', 'departureAirport': {'time': '2024-03-21T19:55:00', 'code': 'SUB', 'tz': 'Asia/Jakarta', 'timeZone': '7.00', 'type': '2', 'label': 'Juanda International Airport', 'country': {'label': 'Indonesia', 'code': 'ID'}, 'city': 'Surabaya'}, 'arrivalAirport': {'time': '2024-03-22T08:50:00', 'code': 'HND', 'tz': 'Asia/Tokyo', 'timeZone': '9.00', 'type': '1', 'label': 'Haneda Airport', 'country': {'label': 'Japan', 'code': 'JP'}, 'city': 'Tokyo'}, 'path': ['GA-319', 'JL-5012'], 'duration': {'text': '10h 55m', 'value': 655}, 'stopSummary': {'0': {'airport': 'CGK', 'stopDuration': 120}}, 'totals': {'currency': 'USD', 'baggage': None, 'penalty': None, 'total': 981.9200000000001, 'tax': 228.48000000000002, 'base': 753.44}}, {'id': 'e5880533836cc5456751ffb4094d7436168f5fedd529a4cf584d908da5198e14', 'careerCode': 'NH', 'flight_code': 'GA-315', 'flight_name': 'All Nippon Airways', 'stops': '1 Stop', 'cabinType': 'Economy', 'baggage': {'cabin': {'qty': 1, 'unit': 'KG', 'text': '7 KG', 'allowance': 7}, 'checkIn': {'allowance': 2, 'qty': 'N', 'unit': None, 'text': '2 PIECE', 'refNumber': 2, 'quantity': 2}}, 'currency': 'USD', 'departureAirport': {'time': '2024-03-21T16:30:00', 'code': 'SUB', 'tz': 'Asia/Jakarta', 'timeZone': '7.00', 'type': '2', 'label': 'Juanda International Airport', 'country': {'label': 'Indonesia', 'code': 'ID'}, 'city': 'Surabaya'}, 'arrivalAirport': {'time': '2024-03-22T06:50:00', 'code': 'HND', 'tz': 'Asia/Tokyo', 'timeZone': '9.00', 'type': '1', 'label': 'Haneda Airport', 'country': {'label': 'Japan', 'code': 'JP'}, 'city': 'Tokyo'}, 'path': ['GA-315', 'NH-856'], 'duration': {'text': '12h 20m', 'value': 740}, 'stopSummary': {'0': {'airport': 'CGK', 'stopDuration': 215}}, 'totals': {'currency': 'USD', 'baggage': None, 'penalty': None, 'total': 1028.16, 'tax': 201.28, 'base': 826.8800000000001}}, {'id': '0e11db4ab1f8c63671bad91efd588619e2fed29a279b0372dc5668126eb4cadc', 'careerCode': 'NH', 'flight_code': 'NH-5542', 'flight_name': 'All Nippon Airways', 'stops': '1 Stop', 'cabinType': 'Economy', 'baggage': {'cabin': {'qty': 1, 'unit': 'KG', 'text': '7 KG', 'allowance': 7}, 'checkIn': {'allowance': 2, 'qty': 'N', 'unit': None, 'text': '2 PIECE', 'refNumber': 2, 'quantity': 2}}, 'currency': 'USD', 'departureAirport': {'time': '2024-03-21T16:30:00', 'code': 'SUB', 'tz': 'Asia/Jakarta', 'timeZone': '7.00', 'type': '2', 'label': 'Juanda International Airport', 'country': {'label': 'Indonesia', 'code': 'ID'}, 'city': 'Surabaya'}, 'arrivalAirport': {'time': '2024-03-22T06:50:00', 'code': 'HND', 'tz': 'Asia/Tokyo', 'timeZone': '9.00', 'type': '1', 'label': 'Haneda Airport', 'country': {'label': 'Japan', 'code': 'JP'}, 'city': 'Tokyo'}, 'path': ['NH-5542', 'NH-856'], 'duration': {'text': '12h 20m', 'value': 740}, 'stopSummary': {'0': {'airport': 'CGK', 'stopDuration': 215}}, 'totals': {'currency': 'USD', 'baggage': None, 'penalty': None, 'total': 1036.3200000000002, 'tax': 209.44000000000003, 'base': 826.8800000000001}}, {'id': '045145bda542600a75c267d4f3b9b13385470ca9fc74713f6f96274a5827e036', 'careerCode': 'NH', 'flight_code': 'GA-319', 'flight_name': 'All Nippon Airways', 'stops': '1 Stop', 'cabinType': 'Economy', 'baggage': {'cabin': {'qty': 1, 'unit': 'KG', 'text': '7 KG', 'allowance': 7}, 'checkIn': {'allowance': 2, 'qty': 'N', 'unit': None, 'text': '2 PIECE', 'refNumber': 2, 'quantity': 2}}, 'currency': 'USD', 'departureAirport': {'time': '2024-03-21T19:55:00', 'code': 'SUB', 'tz': 'Asia/Jakarta', 'timeZone': '7.00', 'type': '2', 'label': 'Juanda International Airport', 'country': {'label': 'Indonesia', 'code': 'ID'}, 'city': 'Surabaya'}, 'arrivalAirport': {'time': '2024-03-22T16:25:00', 'code': 'HND', 'tz': 'Asia/Tokyo', 'timeZone': '9.00', 'type': '1', 'label': 'Haneda Airport', 'country': {'label': 'Japan', 'code': 'JP'}, 'city': 'Tokyo'}, 'path': ['GA-319', 'NH-872'], 'duration': {'text': '18h 30m', 'value': 1110}, 'stopSummary': {'0': {'airport': 'CGK', 'stopDuration': 580}}, 'totals': {'currency': 'USD', 'baggage': None, 'penalty': None, 'total': 1052.64, 'tax': 201.28, 'base': 851.36}}, {'id': '43d28ad50a6b1c80e1f2fc08784d8ff1701c9d396f55a27f7fc2c557fbb07048', 'careerCode': 'SQ', 'flight_code': 'SQ-929', 'flight_name': 'Singapore International Airlines', 'stops': '1 Stop', 'cabinType': 'Economy', 'baggage': {'cabin': {'qty': 1, 'unit': 'KG', 'text': '7 KG', 'allowance': 7}, 'checkIn': {'allowance': 30, 'qty': 'W', 'unit': 'K', 'text': '30 KG', 'refNumber': 3, 'totalWeight': 30, 'quantity': 1}}, 'currency': 'USD', 'departureAirport': {'time': '2024-03-21T18:40:00', 'code': 'SUB', 'tz': 'Asia/Jakarta', 'timeZone': '7.00', 'type': '2', 'label': 'Juanda International Airport', 'country': {'label': 'Indonesia', 'code': 'ID'}, 'city': 'Surabaya'}, 'arrivalAirport': {'time': '2024-03-22T06:20:00', 'code': 'HND', 'tz': 'Asia/Tokyo', 'timeZone': '9.00', 'type': '1', 'label': 'Haneda Airport', 'country': {'label': 'Japan', 'code': 'JP'}, 'city': 'Tokyo'}, 'path': ['SQ-929', 'SQ-636'], 'duration': {'text': '09h 40m', 'value': 580}, 'stopSummary': {'0': {'airport': 'SIN', 'stopDuration': 50}}, 'totals': {'currency': 'USD', 'baggage': None, 'penalty': None, 'total': 1109.76, 'tax': 46.24, 'base': 1063.52}}, {'id': 'b4396e7daabb0706a07dc84a95c80584f18d3649b7542f96585c73ff48e51238', 'careerCode': 'SQ', 'flight_code': 'SQ-929', 'flight_name': 'Singapore International Airlines', 'stops': '1 Stop', 'cabinType': 'Economy', 'baggage': {'cabin': {'qty': 1, 'unit': 'KG', 'text': '7 KG', 'allowance': 7}, 'checkIn': {'allowance': 30, 'qty': 'W', 'unit': 'K', 'text': '30 KG', 'refNumber': 3, 'totalWeight': 30, 'quantity': 1}}, 'currency': 'USD', 'departureAirport': {'time': '2024-03-21T18:40:00', 'code': 'SUB', 'tz': 'Asia/Jakarta', 'timeZone': '7.00', 'type': '2', 'label': 'Juanda International Airport', 'country': {'label': 'Indonesia', 'code': 'ID'}, 'city': 'Surabaya'}, 'arrivalAirport': {'time': '2024-03-22T15:35:00', 'code': 'HND', 'tz': 'Asia/Tokyo', 'timeZone': '9.00', 'type': '1', 'label': 'Haneda Airport', 'country': {'label': 'Japan', 'code': 'JP'}, 'city': 'Tokyo'}, 'path': ['SQ-929', 'SQ-632'], 'duration': {'text': '18h 55m', 'value': 1135}, 'stopSummary': {'0': {'airport': 'SIN', 'stopDuration': 610}}, 'totals': {'currency': 'USD', 'baggage': None, 'penalty': None, 'total': 1109.76, 'tax': 46.24, 'base': 1063.52}}, {'id': 'eb8c4773d5bcdc3b98c9b5475e650cb2a4d5c95d847a188b020cb1ae089a9d2f', 'careerCode': 'SQ', 'flight_code': 'SQ-929', 'flight_name': 'Singapore International Airlines', 'stops': '1 Stop', 'cabinType': 'Economy', 'baggage': {'cabin': {'qty': 1, 'unit': 'KG', 'text': '7 KG', 'allowance': 7}, 'checkIn': {'allowance': 30, 'qty': 'W', 'unit': 'K', 'text': '30 KG', 'refNumber': 3, 'totalWeight': 30, 'quantity': 1}}, 'currency': 'USD', 'departureAirport': {'time': '2024-03-21T18:40:00', 'code': 'SUB', 'tz': 'Asia/Jakarta', 'timeZone': '7.00', 'type': '2', 'label': 'Juanda International Airport', 'country': {'label': 'Indonesia', 'code': 'ID'}, 'city': 'Surabaya'}, 'arrivalAirport': {'time': '2024-03-22T21:40:00', 'code': 'HND', 'tz': 'Asia/Tokyo', 'timeZone': '9.00', 'type': '1', 'label': 'Haneda Airport', 'country': {'label': 'Japan', 'code': 'JP'}, 'city': 'Tokyo'}, 'path': ['SQ-929', 'SQ-634'], 'duration': {'text': '25h 00m', 'value': 1500}, 'stopSummary': {'0': {'airport': 'SIN', 'stopDuration': 970}}, 'totals': {'currency': 'USD', 'baggage': None, 'penalty': None, 'total': 1109.76, 'tax': 46.24, 'base': 1063.52}}, {'id': '34a00299d6bca774a5add7350b042e68ef7a6d5afb1ced27aec0432fad07a77f', 'careerCode': 'GP', 'flight_code': 'GA-319', 'flight_name': 'Gadair European Airlines', 'stops': '1 Stop', 'cabinType': 'Economy', 'baggage': {'cabin': {'qty': 1, 'unit': 'KG', 'text': '7 KG', 'allowance': 7}, 'checkIn': {'allowance': 46, 'qty': 'W', 'unit': 'K', 'text': '46 KG', 'refNumber': 4, 'totalWeight': 46, 'quantity': 2, 'perPieceWeight': 32, 'perPieceWeightFlag': 'FIRST'}}, 'currency': 'USD', 'departureAirport': {'time': '2024-03-21T19:55:00', 'code': 'SUB', 'tz': 'Asia/Jakarta', 'timeZone': '7.00', 'type': '2', 'label': 'Juanda International Airport', 'country': {'label': 'Indonesia', 'code': 'ID'}, 'city': 'Surabaya'}, 'arrivalAirport': {'time': '2024-03-22T08:50:00', 'code': 'HND', 'tz': 'Asia/Tokyo', 'timeZone': '9.00', 'type': '1', 'label': 'Haneda Airport', 'country': {'label': 'Japan', 'code': 'JP'}, 'city': 'Tokyo'}, 'path': ['GA-319', 'GA-874'], 'duration': {'text': '10h 55m', 'value': 655}, 'stopSummary': {'0': {'airport': 'CGK', 'stopDuration': 120}}, 'totals': {'currency': 'USD', 'baggage': None, 'penalty': None, 'total': 1289.2800000000002, 'tax': 195.84, 'base': 1093.44}}, {'id': '110a9cfc8b832d467f8a10fcd7518bf15dab66f5c887088e608131fe29b5c4c7', 'careerCode': 'NH', 'flight_code': 'GA-319', 'flight_name': 'All Nippon Airways', 'stops': '1 Stop', 'cabinType': 'Economy', 'baggage': {'cabin': {'qty': 1, 'unit': 'KG', 'text': '7 KG', 'allowance': 7}, 'checkIn': {'allowance': 2, 'qty': 'N', 'unit': None, 'text': '2 PIECE', 'refNumber': 2, 'quantity': 2}}, 'currency': 'USD', 'departureAirport': {'time': '2024-03-21T19:55:00', 'code': 'SUB', 'tz': 'Asia/Jakarta', 'timeZone': '7.00', 'type': '2', 'label': 'Juanda International Airport', 'country': {'label': 'Indonesia', 'code': 'ID'}, 'city': 'Surabaya'}, 'arrivalAirport': {'time': '2024-03-22T08:50:00', 'code': 'HND', 'tz': 'Asia/Tokyo', 'timeZone': '9.00', 'type': '1', 'label': 'Haneda Airport', 'country': {'label': 'Japan', 'code': 'JP'}, 'city': 'Tokyo'}, 'path': ['GA-319', 'NH-5480'], 'duration': {'text': '10h 55m', 'value': 655}, 'stopSummary': {'0': {'airport': 'CGK', 'stopDuration': 120}}, 'totals': {'currency': 'USD', 'baggage': None, 'penalty': None, 'total': 2091.6800000000003, 'tax': 201.28, 'base': 1890.4}}, {'id': 'fe0a01319fd96e9f71e75455d5c18db6e48a8482367d01f28b4714464f3bbffe', 'careerCode': 'NH', 'flight_code': 'NH-5542', 'flight_name': 'All Nippon Airways', 'stops': '1 Stop', 'cabinType': 'Economy', 'baggage': {'cabin': {'qty': 1, 'unit': 'KG', 'text': '7 KG', 'allowance': 7}, 'checkIn': {'allowance': 2, 'qty': 'N', 'unit': None, 'text': '2 PIECE', 'refNumber': 2, 'quantity': 2}}, 'currency': 'USD', 'departureAirport': {'time': '2024-03-21T16:30:00', 'code': 'SUB', 'tz': 'Asia/Jakarta', 'timeZone': '7.00', 'type': '2', 'label': 'Juanda International Airport', 'country': {'label': 'Indonesia', 'code': 'ID'}, 'city': 'Surabaya'}, 'arrivalAirport': {'time': '2024-03-22T08:50:00', 'code': 'HND', 'tz': 'Asia/Tokyo', 'timeZone': '9.00', 'type': '1', 'label': 'Haneda Airport', 'country': {'label': 'Japan', 'code': 'JP'}, 'city': 'Tokyo'}, 'path': ['NH-5542', 'NH-5480'], 'duration': {'text': '14h 20m', 'value': 860}, 'stopSummary': {'0': {'airport': 'CGK', 'stopDuration': 325}}, 'totals': {'currency': 'USD', 'baggage': None, 'penalty': None, 'total': 2099.84, 'tax': 209.44000000000003, 'base': 1890.4}}, {'id': 'ce1df59819bd8e3b90f2484b1c542e79812e8bc47ca90646f860cfa23223851e', 'careerCode': 'HR', 'flight_code': 'JL-6912', 'flight_name': 'China United Airlines', 'stops': '1 Stop', 'cabinType': 'Economy', 'baggage': {'cabin': {'qty': 1, 'unit': 'KG', 'text': '7 KG', 'allowance': 7}, 'checkIn': {'allowance': 2, 'qty': 'N', 'unit': None, 'text': '2 PIECE', 'refNumber': 2, 'quantity': 2}}, 'currency': 'USD', 'departureAirport': {'time': '2024-03-21T18:40:00', 'code': 'SUB', 'tz': 'Asia/Jakarta', 'timeZone': '7.00', 'type': '2', 'label': 'Juanda International Airport', 'country': {'label': 'Indonesia', 'code': 'ID'}, 'city': 'Surabaya'}, 'arrivalAirport': {'time': '2024-03-22T08:50:00', 'code': 'HND', 'tz': 'Asia/Tokyo', 'timeZone': '9.00', 'type': '1', 'label': 'Haneda Airport', 'country': {'label': 'Japan', 'code': 'JP'}, 'city': 'Tokyo'}, 'path': ['JL-6912', 'JL-5012'], 'duration': {'text': '12h 10m', 'value': 730}, 'stopSummary': {'0': {'airport': 'CGK', 'stopDuration': 200}}, 'totals': {'currency': 'USD', 'baggage': None, 'penalty': None, 'total': 2118.88, 'tax': 228.48000000000002, 'base': 1890.4}}, {'id': 'fea92cd3de9d5a5d4aacee2a5b6c66b5261ee2e3fd7f447ad8e61e26647644db', 'careerCode': 'CX', 'flight_code': 'BI-796', 'flight_name': 'Cathay Pacific', 'stops': '2 Stops', 'cabinType': 'Economy', 'baggage': {'cabin': {'qty': 1, 'unit': 'KG', 'text': '7 KG', 'allowance': 7}, 'checkIn': {'allowance': 1, 'qty': 'N', 'unit': None, 'text': '1 PIECE', 'refNumber': 1, 'quantity': 1}}, 'currency': 'USD', 'departureAirport': {'time': '2024-03-21T05:55:00', 'code': 'SUB', 'tz': 'Asia/Jakarta', 'timeZone': '7.00', 'type': '2', 'label': 'Juanda International Airport', 'country': {'label': 'Indonesia', 'code': 'ID'}, 'city': 'Surabaya'}, 'arrivalAirport': {'time': '2024-03-21T20:25:00', 'code': 'HND', 'tz': 'Asia/Tokyo', 'timeZone': '9.00', 'type': '1', 'label': 'Haneda Airport', 'country': {'label': 'Japan', 'code': 'JP'}, 'city': 'Tokyo'}, 'path': ['BI-796', 'BI-635', 'CX-6320'], 'duration': {'text': '12h 30m', 'value': 750}, 'stopSummary': {'0': {'airport': 'BWN', 'stopDuration': 80}, '1': {'airport': 'HKG', 'stopDuration': 120}}, 'totals': {'currency': 'USD', 'baggage': None, 'penalty': None, 'total': 2521.44, 'tax': 62.56, 'base': 2458.88}}, {'id': '89115335a07a4a9c25619b3a898f09401c8e2a7565e692d9614791fe0b66dd22', 'careerCode': 'CX', 'flight_code': 'CX-780', 'flight_name': 'Cathay Pacific', 'stops': '2 Stops', 'cabinType': 'Economy', 'baggage': {'cabin': {'qty': 1, 'unit': 'KG', 'text': '7 KG', 'allowance': 7}, 'checkIn': {'allowance': 1, 'qty': 'N', 'unit': None, 'text': '1 PIECE', 'refNumber': 1, 'quantity': 1}}, 'currency': 'USD', 'departureAirport': {'time': '2024-03-21T08:20:00', 'code': 'SUB', 'tz': 'Asia/Jakarta', 'timeZone': '7.00', 'type': '2', 'label': 'Juanda International Airport', 'country': {'label': 'Indonesia', 'code': 'ID'}, 'city': 'Surabaya'}, 'arrivalAirport': {'time': '2024-03-21T23:30:00', 'code': 'HND', 'tz': 'Asia/Tokyo', 'timeZone': '9.00', 'type': '1', 'label': 'Haneda Airport', 'country': {'label': 'Japan', 'code': 'JP'}, 'city': 'Tokyo'}, 'path': ['CX-780', 'CX-502', 'NH-100'], 'duration': {'text': '13h 10m', 'value': 790}, 'stopSummary': {'0': {'airport': 'HKG', 'stopDuration': 135}, '1': {'airport': 'KIX', 'stopDuration': 80}}, 'totals': {'currency': 'USD', 'baggage': None, 'penalty': None, 'total': 2556.8, 'tax': 97.92, 'base': 2458.88}}, {'id': '0b5581c27ce417a3b4e394b3af72beb5d0783b66547b1bb1da6fd7f41203d1b7', 'careerCode': 'SQ', 'flight_code': 'SQ-929', 'flight_name': 'Singapore International Airlines', 'stops': '2 Stops', 'cabinType': 'Economy', 'baggage': {'cabin': {'qty': 1, 'unit': 'KG', 'text': '7 KG', 'allowance': 7}, 'checkIn': {'allowance': 30, 'qty': 'W', 'unit': 'K', 'text': '30 KG', 'refNumber': 3, 'totalWeight': 30, 'quantity': 1}}, 'currency': 'USD', 'departureAirport': {'time': '2024-03-21T18:40:00', 'code': 'SUB', 'tz': 'Asia/Jakarta', 'timeZone': '7.00', 'type': '2', 'label': 'Juanda International Airport', 'country': {'label': 'Indonesia', 'code': 'ID'}, 'city': 'Surabaya'}, 'arrivalAirport': {'time': '2024-03-22T11:40:00', 'code': 'HND', 'tz': 'Asia/Tokyo', 'timeZone': '9.00', 'type': '1', 'label': 'Haneda Airport', 'country': {'label': 'Japan', 'code': 'JP'}, 'city': 'Tokyo'}, 'path': ['SQ-929', 'SQ-656', 'JL-308'], 'duration': {'text': '15h 00m', 'value': 900}, 'stopSummary': {'0': {'airport': 'SIN', 'stopDuration': 205}, '1': {'airport': 'FUK', 'stopDuration': 115}}, 'totals': {'currency': 'USD', 'baggage': None, 'penalty': None, 'total': 3802.5600000000004, 'tax': 51.68000000000001, 'base': 3750.88}}, {'id': '63f6f6c838d28186e6873555bb55f95f5f445bc39b6e8d3c7a76ff95a321b49c', 'careerCode': 'SQ', 'flight_code': 'GA-317', 'flight_name': 'Singapore International Airlines', 'stops': '2 Stops', 'cabinType': 'Economy', 'baggage': {'cabin': {'qty': 1, 'unit': 'KG', 'text': '7 KG', 'allowance': 7}, 'checkIn': {'allowance': 30, 'qty': 'W', 'unit': 'K', 'text': '30 KG', 'refNumber': 3, 'totalWeight': 30, 'quantity': 1}}, 'currency': 'USD', 'departureAirport': {'time': '2024-03-21T13:35:00', 'code': 'SUB', 'tz': 'Asia/Jakarta', 'timeZone': '7.00', 'type': '2', 'label': 'Juanda International Airport', 'country': {'label': 'Indonesia', 'code': 'ID'}, 'city': 'Surabaya'}, 'arrivalAirport': {'time': '2024-03-22T06:20:00', 'code': 'HND', 'tz': 'Asia/Tokyo', 'timeZone': '9.00', 'type': '1', 'label': 'Haneda Airport', 'country': {'label': 'Japan', 'code': 'JP'}, 'city': 'Tokyo'}, 'path': ['GA-317', 'SQ-965', 'SQ-636'], 'duration': {'text': '14h 45m', 'value': 885}, 'stopSummary': {'0': {'airport': 'CGK', 'stopDuration': 230}, '1': {'airport': 'SIN', 'stopDuration': 50}}, 'totals': {'currency': 'USD', 'baggage': None, 'penalty': None, 'total': 3810.7200000000003, 'tax': 59.84, 'base': 3750.88}}, {'id': 'b4b28e667924d24fcf0842fa5006df484a79e15171cfbe35f36f2371806b2e6e', 'careerCode': 'SQ', 'flight_code': 'MH-872', 'flight_name': 'Singapore International Airlines', 'stops': '2 Stops', 'cabinType': 'Economy', 'baggage': {'cabin': {'qty': 1, 'unit': 'KG', 'text': '7 KG', 'allowance': 7}, 'checkIn': {'allowance': 30, 'qty': 'W', 'unit': 'K', 'text': '30 KG', 'refNumber': 3, 'totalWeight': 30, 'quantity': 1}}, 'currency': 'USD', 'departureAirport': {'time': '2024-03-21T15:50:00', 'code': 'SUB', 'tz': 'Asia/Jakarta', 'timeZone': '7.00', 'type': '2', 'label': 'Juanda International Airport', 'country': {'label': 'Indonesia', 'code': 'ID'}, 'city': 'Surabaya'}, 'arrivalAirport': {'time': '2024-03-22T06:20:00', 'code': 'HND', 'tz': 'Asia/Tokyo', 'timeZone': '9.00', 'type': '1', 'label': 'Haneda Airport', 'country': {'label': 'Japan', 'code': 'JP'}, 'city': 'Tokyo'}, 'path': ['MH-872', 'SQ-125', 'SQ-636'], 'duration': {'text': '12h 30m', 'value': 750}, 'stopSummary': {'0': {'airport': 'KUL', 'stopDuration': 65}, '1': {'airport': 'SIN', 'stopDuration': 75}}, 'totals': {'currency': 'USD', 'baggage': None, 'penalty': None, 'total': 3876.0000000000005, 'tax': 59.84, 'base': 3816.1600000000003}}]\n"
     ]
    }
   ],
   "source": [
    "data=response.json()\n",
    "data=data['results']\n",
    "\n",
    "print(data)\n",
    "\n"
   ]
  },
  {
   "cell_type": "code",
   "execution_count": 26,
   "metadata": {},
   "outputs": [
    {
     "name": "stdout",
     "output_type": "stream",
     "text": [
      "{'id': '938d47d378a4b610a8a7aea1690e7ff55f6cfb6fd7cd39aea465f491f62ab564', 'careerCode': 'CX', 'flight_code': 'CX-780', 'flight_name': 'Cathay Pacific', 'stops': '1 Stop', 'cabinType': 'Economy', 'baggage': {'cabin': {'qty': 1, 'unit': 'KG', 'text': '7 KG', 'allowance': 7}, 'checkIn': {'allowance': 1, 'qty': 'N', 'unit': None, 'text': '1 PIECE', 'refNumber': 1, 'quantity': 1}}, 'currency': 'USD', 'departureAirport': {'time': '2024-03-21T08:20:00', 'code': 'SUB', 'tz': 'Asia/Jakarta', 'timeZone': '7.00', 'type': '2', 'label': 'Juanda International Airport', 'country': {'label': 'Indonesia', 'code': 'ID'}, 'city': 'Surabaya'}, 'arrivalAirport': {'time': '2024-03-21T21:15:00', 'code': 'HND', 'tz': 'Asia/Tokyo', 'timeZone': '9.00', 'type': '1', 'label': 'Haneda Airport', 'country': {'label': 'Japan', 'code': 'JP'}, 'city': 'Tokyo'}, 'path': ['CX-780', 'CX-542'], 'duration': {'text': '10h 55m', 'value': 655}, 'stopSummary': {'0': {'airport': 'HKG', 'stopDuration': 125}}, 'totals': {'currency': 'USD', 'baggage': None, 'penalty': None, 'total': 533.12, 'tax': 89.76, 'base': 443.36}}\n",
      "{'id': '3262125c99326f6330f83406b93b06c82be7892ab868bda7d6c50f5146946201', 'careerCode': 'CX', 'flight_code': 'CX-780', 'flight_name': 'Cathay Pacific', 'stops': '1 Stop', 'cabinType': 'Economy', 'baggage': {'cabin': {'qty': 1, 'unit': 'KG', 'text': '7 KG', 'allowance': 7}, 'checkIn': {'allowance': 1, 'qty': 'N', 'unit': None, 'text': '1 PIECE', 'refNumber': 1, 'quantity': 1}}, 'currency': 'USD', 'departureAirport': {'time': '2024-03-21T08:20:00', 'code': 'SUB', 'tz': 'Asia/Jakarta', 'timeZone': '7.00', 'type': '2', 'label': 'Juanda International Airport', 'country': {'label': 'Indonesia', 'code': 'ID'}, 'city': 'Surabaya'}, 'arrivalAirport': {'time': '2024-03-22T13:45:00', 'code': 'HND', 'tz': 'Asia/Tokyo', 'timeZone': '9.00', 'type': '1', 'label': 'Haneda Airport', 'country': {'label': 'Japan', 'code': 'JP'}, 'city': 'Tokyo'}, 'path': ['CX-780', 'CX-548'], 'duration': {'text': '27h 25m', 'value': 1645}, 'stopSummary': {'0': {'airport': 'HKG', 'stopDuration': 1115}}, 'totals': {'currency': 'USD', 'baggage': None, 'penalty': None, 'total': 826.8800000000001, 'tax': 106.08000000000001, 'base': 720.8000000000001}}\n",
      "{'id': '254cad97fc09205eeeb504a82e9abad3863bba281c69830341a3b9a0392b0315', 'careerCode': 'NH', 'flight_code': 'SQ-927', 'flight_name': 'All Nippon Airways', 'stops': '1 Stop', 'cabinType': 'Economy', 'baggage': {'cabin': {'qty': 1, 'unit': 'KG', 'text': '7 KG', 'allowance': 7}, 'checkIn': {'allowance': 2, 'qty': 'N', 'unit': None, 'text': '2 PIECE', 'refNumber': 2, 'quantity': 2}}, 'currency': 'USD', 'departureAirport': {'time': '2024-03-21T16:30:00', 'code': 'SUB', 'tz': 'Asia/Jakarta', 'timeZone': '7.00', 'type': '2', 'label': 'Juanda International Airport', 'country': {'label': 'Indonesia', 'code': 'ID'}, 'city': 'Surabaya'}, 'arrivalAirport': {'time': '2024-03-22T05:55:00', 'code': 'HND', 'tz': 'Asia/Tokyo', 'timeZone': '9.00', 'type': '1', 'label': 'Haneda Airport', 'country': {'label': 'Japan', 'code': 'JP'}, 'city': 'Tokyo'}, 'path': ['SQ-927', 'NH-844'], 'duration': {'text': '11h 25m', 'value': 685}, 'stopSummary': {'0': {'airport': 'SIN', 'stopDuration': 145}}, 'totals': {'currency': 'USD', 'baggage': None, 'penalty': None, 'total': 957.44, 'tax': 160.48000000000002, 'base': 796.96}}\n",
      "{'id': '9f03de58a13972cd285cdfdc42163cf221973ff773fca6c9bb42a2f821d45cf4', 'careerCode': 'HR', 'flight_code': 'GA-319', 'flight_name': 'China United Airlines', 'stops': '1 Stop', 'cabinType': 'Economy', 'baggage': {'cabin': {'qty': 1, 'unit': 'KG', 'text': '7 KG', 'allowance': 7}, 'checkIn': {'allowance': 2, 'qty': 'N', 'unit': None, 'text': '2 PIECE', 'refNumber': 2, 'quantity': 2}}, 'currency': 'USD', 'departureAirport': {'time': '2024-03-21T19:55:00', 'code': 'SUB', 'tz': 'Asia/Jakarta', 'timeZone': '7.00', 'type': '2', 'label': 'Juanda International Airport', 'country': {'label': 'Indonesia', 'code': 'ID'}, 'city': 'Surabaya'}, 'arrivalAirport': {'time': '2024-03-22T08:50:00', 'code': 'HND', 'tz': 'Asia/Tokyo', 'timeZone': '9.00', 'type': '1', 'label': 'Haneda Airport', 'country': {'label': 'Japan', 'code': 'JP'}, 'city': 'Tokyo'}, 'path': ['GA-319', 'JL-5012'], 'duration': {'text': '10h 55m', 'value': 655}, 'stopSummary': {'0': {'airport': 'CGK', 'stopDuration': 120}}, 'totals': {'currency': 'USD', 'baggage': None, 'penalty': None, 'total': 979.2, 'tax': 228.48000000000002, 'base': 750.72}}\n",
      "{'id': 'b528c1a5bc3557cca85378ac634f979617536db13f9ea96ac09a20da568abc2c', 'careerCode': 'NH', 'flight_code': 'GA-315', 'flight_name': 'All Nippon Airways', 'stops': '1 Stop', 'cabinType': 'Economy', 'baggage': {'cabin': {'qty': 1, 'unit': 'KG', 'text': '7 KG', 'allowance': 7}, 'checkIn': {'allowance': 2, 'qty': 'N', 'unit': None, 'text': '2 PIECE', 'refNumber': 2, 'quantity': 2}}, 'currency': 'USD', 'departureAirport': {'time': '2024-03-21T16:30:00', 'code': 'SUB', 'tz': 'Asia/Jakarta', 'timeZone': '7.00', 'type': '2', 'label': 'Juanda International Airport', 'country': {'label': 'Indonesia', 'code': 'ID'}, 'city': 'Surabaya'}, 'arrivalAirport': {'time': '2024-03-22T06:50:00', 'code': 'HND', 'tz': 'Asia/Tokyo', 'timeZone': '9.00', 'type': '1', 'label': 'Haneda Airport', 'country': {'label': 'Japan', 'code': 'JP'}, 'city': 'Tokyo'}, 'path': ['GA-315', 'NH-856'], 'duration': {'text': '12h 20m', 'value': 740}, 'stopSummary': {'0': {'airport': 'CGK', 'stopDuration': 215}}, 'totals': {'currency': 'USD', 'baggage': None, 'penalty': None, 'total': 1025.44, 'tax': 201.28, 'base': 824.1600000000001}}\n",
      "{'id': '81b6fa169ac974924d4da23d259ce09b206a48e320c7b6f0784914981c23a28b', 'careerCode': 'NH', 'flight_code': 'NH-5542', 'flight_name': 'All Nippon Airways', 'stops': '1 Stop', 'cabinType': 'Economy', 'baggage': {'cabin': {'qty': 1, 'unit': 'KG', 'text': '7 KG', 'allowance': 7}, 'checkIn': {'allowance': 2, 'qty': 'N', 'unit': None, 'text': '2 PIECE', 'refNumber': 2, 'quantity': 2}}, 'currency': 'USD', 'departureAirport': {'time': '2024-03-21T16:30:00', 'code': 'SUB', 'tz': 'Asia/Jakarta', 'timeZone': '7.00', 'type': '2', 'label': 'Juanda International Airport', 'country': {'label': 'Indonesia', 'code': 'ID'}, 'city': 'Surabaya'}, 'arrivalAirport': {'time': '2024-03-22T06:50:00', 'code': 'HND', 'tz': 'Asia/Tokyo', 'timeZone': '9.00', 'type': '1', 'label': 'Haneda Airport', 'country': {'label': 'Japan', 'code': 'JP'}, 'city': 'Tokyo'}, 'path': ['NH-5542', 'NH-856'], 'duration': {'text': '12h 20m', 'value': 740}, 'stopSummary': {'0': {'airport': 'CGK', 'stopDuration': 215}}, 'totals': {'currency': 'USD', 'baggage': None, 'penalty': None, 'total': 1033.6000000000001, 'tax': 209.44000000000003, 'base': 824.1600000000001}}\n",
      "{'id': '1d7d9088f55b56e1bd118f62bdc6f83f0253424de201187ff14edba6ae1327e1', 'careerCode': 'NH', 'flight_code': 'GA-319', 'flight_name': 'All Nippon Airways', 'stops': '1 Stop', 'cabinType': 'Economy', 'baggage': {'cabin': {'qty': 1, 'unit': 'KG', 'text': '7 KG', 'allowance': 7}, 'checkIn': {'allowance': 2, 'qty': 'N', 'unit': None, 'text': '2 PIECE', 'refNumber': 2, 'quantity': 2}}, 'currency': 'USD', 'departureAirport': {'time': '2024-03-21T19:55:00', 'code': 'SUB', 'tz': 'Asia/Jakarta', 'timeZone': '7.00', 'type': '2', 'label': 'Juanda International Airport', 'country': {'label': 'Indonesia', 'code': 'ID'}, 'city': 'Surabaya'}, 'arrivalAirport': {'time': '2024-03-22T16:25:00', 'code': 'HND', 'tz': 'Asia/Tokyo', 'timeZone': '9.00', 'type': '1', 'label': 'Haneda Airport', 'country': {'label': 'Japan', 'code': 'JP'}, 'city': 'Tokyo'}, 'path': ['GA-319', 'NH-872'], 'duration': {'text': '18h 30m', 'value': 1110}, 'stopSummary': {'0': {'airport': 'CGK', 'stopDuration': 580}}, 'totals': {'currency': 'USD', 'baggage': None, 'penalty': None, 'total': 1049.92, 'tax': 201.28, 'base': 848.6400000000001}}\n",
      "{'id': '1ca3d73d1cdc5b169ef62a5422d7a57b04b0aebf6692a6e0e2e4931d9254dcc8', 'careerCode': 'SQ', 'flight_code': 'SQ-929', 'flight_name': 'Singapore International Airlines', 'stops': '1 Stop', 'cabinType': 'Economy', 'baggage': {'cabin': {'qty': 1, 'unit': 'KG', 'text': '7 KG', 'allowance': 7}, 'checkIn': {'allowance': 30, 'qty': 'W', 'unit': 'K', 'text': '30 KG', 'refNumber': 3, 'totalWeight': 30, 'quantity': 1}}, 'currency': 'USD', 'departureAirport': {'time': '2024-03-21T18:40:00', 'code': 'SUB', 'tz': 'Asia/Jakarta', 'timeZone': '7.00', 'type': '2', 'label': 'Juanda International Airport', 'country': {'label': 'Indonesia', 'code': 'ID'}, 'city': 'Surabaya'}, 'arrivalAirport': {'time': '2024-03-22T06:20:00', 'code': 'HND', 'tz': 'Asia/Tokyo', 'timeZone': '9.00', 'type': '1', 'label': 'Haneda Airport', 'country': {'label': 'Japan', 'code': 'JP'}, 'city': 'Tokyo'}, 'path': ['SQ-929', 'SQ-636'], 'duration': {'text': '09h 40m', 'value': 580}, 'stopSummary': {'0': {'airport': 'SIN', 'stopDuration': 50}}, 'totals': {'currency': 'USD', 'baggage': None, 'penalty': None, 'total': 1104.3200000000002, 'tax': 46.24, 'base': 1058.0800000000002}}\n",
      "{'id': 'da1e855acb15ac1d90dabd9aa88a418596dd7ca9b7a1ce04e759c77b6b4854b2', 'careerCode': 'SQ', 'flight_code': 'SQ-929', 'flight_name': 'Singapore International Airlines', 'stops': '1 Stop', 'cabinType': 'Economy', 'baggage': {'cabin': {'qty': 1, 'unit': 'KG', 'text': '7 KG', 'allowance': 7}, 'checkIn': {'allowance': 30, 'qty': 'W', 'unit': 'K', 'text': '30 KG', 'refNumber': 3, 'totalWeight': 30, 'quantity': 1}}, 'currency': 'USD', 'departureAirport': {'time': '2024-03-21T18:40:00', 'code': 'SUB', 'tz': 'Asia/Jakarta', 'timeZone': '7.00', 'type': '2', 'label': 'Juanda International Airport', 'country': {'label': 'Indonesia', 'code': 'ID'}, 'city': 'Surabaya'}, 'arrivalAirport': {'time': '2024-03-22T15:35:00', 'code': 'HND', 'tz': 'Asia/Tokyo', 'timeZone': '9.00', 'type': '1', 'label': 'Haneda Airport', 'country': {'label': 'Japan', 'code': 'JP'}, 'city': 'Tokyo'}, 'path': ['SQ-929', 'SQ-632'], 'duration': {'text': '18h 55m', 'value': 1135}, 'stopSummary': {'0': {'airport': 'SIN', 'stopDuration': 610}}, 'totals': {'currency': 'USD', 'baggage': None, 'penalty': None, 'total': 1104.3200000000002, 'tax': 46.24, 'base': 1058.0800000000002}}\n",
      "{'id': '101fcf09414a014eb68b191380bf614a652aa235b3198e0928d817f5252a4403', 'careerCode': 'SQ', 'flight_code': 'SQ-929', 'flight_name': 'Singapore International Airlines', 'stops': '1 Stop', 'cabinType': 'Economy', 'baggage': {'cabin': {'qty': 1, 'unit': 'KG', 'text': '7 KG', 'allowance': 7}, 'checkIn': {'allowance': 30, 'qty': 'W', 'unit': 'K', 'text': '30 KG', 'refNumber': 3, 'totalWeight': 30, 'quantity': 1}}, 'currency': 'USD', 'departureAirport': {'time': '2024-03-21T18:40:00', 'code': 'SUB', 'tz': 'Asia/Jakarta', 'timeZone': '7.00', 'type': '2', 'label': 'Juanda International Airport', 'country': {'label': 'Indonesia', 'code': 'ID'}, 'city': 'Surabaya'}, 'arrivalAirport': {'time': '2024-03-22T21:40:00', 'code': 'HND', 'tz': 'Asia/Tokyo', 'timeZone': '9.00', 'type': '1', 'label': 'Haneda Airport', 'country': {'label': 'Japan', 'code': 'JP'}, 'city': 'Tokyo'}, 'path': ['SQ-929', 'SQ-634'], 'duration': {'text': '25h 00m', 'value': 1500}, 'stopSummary': {'0': {'airport': 'SIN', 'stopDuration': 970}}, 'totals': {'currency': 'USD', 'baggage': None, 'penalty': None, 'total': 1104.3200000000002, 'tax': 46.24, 'base': 1058.0800000000002}}\n",
      "{'id': '4501dacf301c2486390239f048a3e75107f5cbe4f086de21d3e7a99e4bb78983', 'careerCode': 'GP', 'flight_code': 'GA-319', 'flight_name': 'Gadair European Airlines', 'stops': '1 Stop', 'cabinType': 'Economy', 'baggage': {'cabin': {'qty': 1, 'unit': 'KG', 'text': '7 KG', 'allowance': 7}, 'checkIn': {'allowance': 46, 'qty': 'W', 'unit': 'K', 'text': '46 KG', 'refNumber': 4, 'totalWeight': 46, 'quantity': 2, 'perPieceWeight': 32, 'perPieceWeightFlag': 'FIRST'}}, 'currency': 'USD', 'departureAirport': {'time': '2024-03-21T19:55:00', 'code': 'SUB', 'tz': 'Asia/Jakarta', 'timeZone': '7.00', 'type': '2', 'label': 'Juanda International Airport', 'country': {'label': 'Indonesia', 'code': 'ID'}, 'city': 'Surabaya'}, 'arrivalAirport': {'time': '2024-03-22T08:50:00', 'code': 'HND', 'tz': 'Asia/Tokyo', 'timeZone': '9.00', 'type': '1', 'label': 'Haneda Airport', 'country': {'label': 'Japan', 'code': 'JP'}, 'city': 'Tokyo'}, 'path': ['GA-319', 'GA-874'], 'duration': {'text': '10h 55m', 'value': 655}, 'stopSummary': {'0': {'airport': 'CGK', 'stopDuration': 120}}, 'totals': {'currency': 'USD', 'baggage': None, 'penalty': None, 'total': 1286.5600000000002, 'tax': 195.84, 'base': 1090.72}}\n",
      "{'id': '3478e9b3d85c31beda7bc6325adeef852116cba25d00f9a25c1a393803d4b436', 'careerCode': 'NH', 'flight_code': 'GA-319', 'flight_name': 'All Nippon Airways', 'stops': '1 Stop', 'cabinType': 'Economy', 'baggage': {'cabin': {'qty': 1, 'unit': 'KG', 'text': '7 KG', 'allowance': 7}, 'checkIn': {'allowance': 2, 'qty': 'N', 'unit': None, 'text': '2 PIECE', 'refNumber': 2, 'quantity': 2}}, 'currency': 'USD', 'departureAirport': {'time': '2024-03-21T19:55:00', 'code': 'SUB', 'tz': 'Asia/Jakarta', 'timeZone': '7.00', 'type': '2', 'label': 'Juanda International Airport', 'country': {'label': 'Indonesia', 'code': 'ID'}, 'city': 'Surabaya'}, 'arrivalAirport': {'time': '2024-03-22T08:50:00', 'code': 'HND', 'tz': 'Asia/Tokyo', 'timeZone': '9.00', 'type': '1', 'label': 'Haneda Airport', 'country': {'label': 'Japan', 'code': 'JP'}, 'city': 'Tokyo'}, 'path': ['GA-319', 'NH-5480'], 'duration': {'text': '10h 55m', 'value': 655}, 'stopSummary': {'0': {'airport': 'CGK', 'stopDuration': 120}}, 'totals': {'currency': 'USD', 'baggage': None, 'penalty': None, 'total': 2083.52, 'tax': 201.28, 'base': 1882.2400000000002}}\n",
      "{'id': '875532416e994d272be97b20b569f0024a396b60846247ef553c5847a4f7ee68', 'careerCode': 'NH', 'flight_code': 'NH-5542', 'flight_name': 'All Nippon Airways', 'stops': '1 Stop', 'cabinType': 'Economy', 'baggage': {'cabin': {'qty': 1, 'unit': 'KG', 'text': '7 KG', 'allowance': 7}, 'checkIn': {'allowance': 2, 'qty': 'N', 'unit': None, 'text': '2 PIECE', 'refNumber': 2, 'quantity': 2}}, 'currency': 'USD', 'departureAirport': {'time': '2024-03-21T16:30:00', 'code': 'SUB', 'tz': 'Asia/Jakarta', 'timeZone': '7.00', 'type': '2', 'label': 'Juanda International Airport', 'country': {'label': 'Indonesia', 'code': 'ID'}, 'city': 'Surabaya'}, 'arrivalAirport': {'time': '2024-03-22T08:50:00', 'code': 'HND', 'tz': 'Asia/Tokyo', 'timeZone': '9.00', 'type': '1', 'label': 'Haneda Airport', 'country': {'label': 'Japan', 'code': 'JP'}, 'city': 'Tokyo'}, 'path': ['NH-5542', 'NH-5480'], 'duration': {'text': '14h 20m', 'value': 860}, 'stopSummary': {'0': {'airport': 'CGK', 'stopDuration': 325}}, 'totals': {'currency': 'USD', 'baggage': None, 'penalty': None, 'total': 2091.6800000000003, 'tax': 209.44000000000003, 'base': 1882.2400000000002}}\n",
      "{'id': 'd69c65ef820b97e850fad2e63d7dda91530ac052084694d2594f6302e2f71a2a', 'careerCode': 'HR', 'flight_code': 'JL-6912', 'flight_name': 'China United Airlines', 'stops': '1 Stop', 'cabinType': 'Economy', 'baggage': {'cabin': {'qty': 1, 'unit': 'KG', 'text': '7 KG', 'allowance': 7}, 'checkIn': {'allowance': 2, 'qty': 'N', 'unit': None, 'text': '2 PIECE', 'refNumber': 2, 'quantity': 2}}, 'currency': 'USD', 'departureAirport': {'time': '2024-03-21T18:40:00', 'code': 'SUB', 'tz': 'Asia/Jakarta', 'timeZone': '7.00', 'type': '2', 'label': 'Juanda International Airport', 'country': {'label': 'Indonesia', 'code': 'ID'}, 'city': 'Surabaya'}, 'arrivalAirport': {'time': '2024-03-22T08:50:00', 'code': 'HND', 'tz': 'Asia/Tokyo', 'timeZone': '9.00', 'type': '1', 'label': 'Haneda Airport', 'country': {'label': 'Japan', 'code': 'JP'}, 'city': 'Tokyo'}, 'path': ['JL-6912', 'JL-5012'], 'duration': {'text': '12h 10m', 'value': 730}, 'stopSummary': {'0': {'airport': 'CGK', 'stopDuration': 200}}, 'totals': {'currency': 'USD', 'baggage': None, 'penalty': None, 'total': 2110.7200000000003, 'tax': 228.48000000000002, 'base': 1882.2400000000002}}\n",
      "{'id': '04937ad2d8b7ac9fceaec43c56e89357f6f52e14c0df94d8289b6f2e76a8efb5', 'careerCode': 'CX', 'flight_code': 'BI-796', 'flight_name': 'Cathay Pacific', 'stops': '2 Stops', 'cabinType': 'Economy', 'baggage': {'cabin': {'qty': 1, 'unit': 'KG', 'text': '7 KG', 'allowance': 7}, 'checkIn': {'allowance': 1, 'qty': 'N', 'unit': None, 'text': '1 PIECE', 'refNumber': 1, 'quantity': 1}}, 'currency': 'USD', 'departureAirport': {'time': '2024-03-21T05:55:00', 'code': 'SUB', 'tz': 'Asia/Jakarta', 'timeZone': '7.00', 'type': '2', 'label': 'Juanda International Airport', 'country': {'label': 'Indonesia', 'code': 'ID'}, 'city': 'Surabaya'}, 'arrivalAirport': {'time': '2024-03-21T20:25:00', 'code': 'HND', 'tz': 'Asia/Tokyo', 'timeZone': '9.00', 'type': '1', 'label': 'Haneda Airport', 'country': {'label': 'Japan', 'code': 'JP'}, 'city': 'Tokyo'}, 'path': ['BI-796', 'BI-635', 'CX-6320'], 'duration': {'text': '12h 30m', 'value': 750}, 'stopSummary': {'0': {'airport': 'BWN', 'stopDuration': 80}, '1': {'airport': 'HKG', 'stopDuration': 120}}, 'totals': {'currency': 'USD', 'baggage': None, 'penalty': None, 'total': 2513.28, 'tax': 62.56, 'base': 2450.7200000000003}}\n",
      "{'id': '7f16747746624eae813ef69c8c684dbde86fa7279a44c1f693fea9b004897d6c', 'careerCode': 'CX', 'flight_code': 'BI-796', 'flight_name': 'Cathay Pacific', 'stops': '2 Stops', 'cabinType': 'Economy', 'baggage': {'cabin': {'qty': 1, 'unit': 'KG', 'text': '7 KG', 'allowance': 7}, 'checkIn': {'allowance': 1, 'qty': 'N', 'unit': None, 'text': '1 PIECE', 'refNumber': 1, 'quantity': 1}}, 'currency': 'USD', 'departureAirport': {'time': '2024-03-21T05:55:00', 'code': 'SUB', 'tz': 'Asia/Jakarta', 'timeZone': '7.00', 'type': '2', 'label': 'Juanda International Airport', 'country': {'label': 'Indonesia', 'code': 'ID'}, 'city': 'Surabaya'}, 'arrivalAirport': {'time': '2024-03-21T21:15:00', 'code': 'HND', 'tz': 'Asia/Tokyo', 'timeZone': '9.00', 'type': '1', 'label': 'Haneda Airport', 'country': {'label': 'Japan', 'code': 'JP'}, 'city': 'Tokyo'}, 'path': ['BI-796', 'BI-635', 'CX-542'], 'duration': {'text': '13h 20m', 'value': 800}, 'stopSummary': {'0': {'airport': 'BWN', 'stopDuration': 80}, '1': {'airport': 'HKG', 'stopDuration': 170}}, 'totals': {'currency': 'USD', 'baggage': None, 'penalty': None, 'total': 2513.28, 'tax': 62.56, 'base': 2450.7200000000003}}\n",
      "{'id': '18a89d14504103e3ca16626c9e760a17818aa34fa517304cf54652959472945e', 'careerCode': 'CX', 'flight_code': 'CX-780', 'flight_name': 'Cathay Pacific', 'stops': '2 Stops', 'cabinType': 'Economy', 'baggage': {'cabin': {'qty': 1, 'unit': 'KG', 'text': '7 KG', 'allowance': 7}, 'checkIn': {'allowance': 1, 'qty': 'N', 'unit': None, 'text': '1 PIECE', 'refNumber': 1, 'quantity': 1}}, 'currency': 'USD', 'departureAirport': {'time': '2024-03-21T08:20:00', 'code': 'SUB', 'tz': 'Asia/Jakarta', 'timeZone': '7.00', 'type': '2', 'label': 'Juanda International Airport', 'country': {'label': 'Indonesia', 'code': 'ID'}, 'city': 'Surabaya'}, 'arrivalAirport': {'time': '2024-03-21T23:30:00', 'code': 'HND', 'tz': 'Asia/Tokyo', 'timeZone': '9.00', 'type': '1', 'label': 'Haneda Airport', 'country': {'label': 'Japan', 'code': 'JP'}, 'city': 'Tokyo'}, 'path': ['CX-780', 'CX-502', 'NH-100'], 'duration': {'text': '13h 10m', 'value': 790}, 'stopSummary': {'0': {'airport': 'HKG', 'stopDuration': 135}, '1': {'airport': 'KIX', 'stopDuration': 80}}, 'totals': {'currency': 'USD', 'baggage': None, 'penalty': None, 'total': 2548.6400000000003, 'tax': 97.92, 'base': 2450.7200000000003}}\n",
      "{'id': '7ff30af0bceb2d564433bc6f8e16f5bf68cd07b2406d79433029629ff1b7e20a', 'careerCode': 'SQ', 'flight_code': 'SQ-929', 'flight_name': 'Singapore International Airlines', 'stops': '2 Stops', 'cabinType': 'Economy', 'baggage': {'cabin': {'qty': 1, 'unit': 'KG', 'text': '7 KG', 'allowance': 7}, 'checkIn': {'allowance': 30, 'qty': 'W', 'unit': 'K', 'text': '30 KG', 'refNumber': 3, 'totalWeight': 30, 'quantity': 1}}, 'currency': 'USD', 'departureAirport': {'time': '2024-03-21T18:40:00', 'code': 'SUB', 'tz': 'Asia/Jakarta', 'timeZone': '7.00', 'type': '2', 'label': 'Juanda International Airport', 'country': {'label': 'Indonesia', 'code': 'ID'}, 'city': 'Surabaya'}, 'arrivalAirport': {'time': '2024-03-22T11:40:00', 'code': 'HND', 'tz': 'Asia/Tokyo', 'timeZone': '9.00', 'type': '1', 'label': 'Haneda Airport', 'country': {'label': 'Japan', 'code': 'JP'}, 'city': 'Tokyo'}, 'path': ['SQ-929', 'SQ-656', 'JL-308'], 'duration': {'text': '15h 00m', 'value': 900}, 'stopSummary': {'0': {'airport': 'SIN', 'stopDuration': 205}, '1': {'airport': 'FUK', 'stopDuration': 115}}, 'totals': {'currency': 'USD', 'baggage': None, 'penalty': None, 'total': 3788.9600000000005, 'tax': 51.68000000000001, 'base': 3737.28}}\n",
      "{'id': '8cfc916237bfe310334d2db2ed49b47b461d022fb590e2f5befa2839f16ded7c', 'careerCode': 'SQ', 'flight_code': 'GA-317', 'flight_name': 'Singapore International Airlines', 'stops': '2 Stops', 'cabinType': 'Economy', 'baggage': {'cabin': {'qty': 1, 'unit': 'KG', 'text': '7 KG', 'allowance': 7}, 'checkIn': {'allowance': 30, 'qty': 'W', 'unit': 'K', 'text': '30 KG', 'refNumber': 3, 'totalWeight': 30, 'quantity': 1}}, 'currency': 'USD', 'departureAirport': {'time': '2024-03-21T13:35:00', 'code': 'SUB', 'tz': 'Asia/Jakarta', 'timeZone': '7.00', 'type': '2', 'label': 'Juanda International Airport', 'country': {'label': 'Indonesia', 'code': 'ID'}, 'city': 'Surabaya'}, 'arrivalAirport': {'time': '2024-03-22T06:20:00', 'code': 'HND', 'tz': 'Asia/Tokyo', 'timeZone': '9.00', 'type': '1', 'label': 'Haneda Airport', 'country': {'label': 'Japan', 'code': 'JP'}, 'city': 'Tokyo'}, 'path': ['GA-317', 'SQ-965', 'SQ-636'], 'duration': {'text': '14h 45m', 'value': 885}, 'stopSummary': {'0': {'airport': 'CGK', 'stopDuration': 230}, '1': {'airport': 'SIN', 'stopDuration': 50}}, 'totals': {'currency': 'USD', 'baggage': None, 'penalty': None, 'total': 3797.1200000000003, 'tax': 59.84, 'base': 3737.28}}\n"
     ]
    }
   ],
   "source": [
    "for i in data:\n",
    "    print(i)"
   ]
  },
  {
   "cell_type": "code",
   "execution_count": 29,
   "metadata": {},
   "outputs": [
    {
     "name": "stdout",
     "output_type": "stream",
     "text": [
      "CX-780 Cathay Pacific 7 KG 2024-03-21T08:20:00 Cathay Pacific 7 KG 2024-03-21T08:20:00 Juanda International Airport 2024-03-21T21:15:00 Haneda Airport ['CX-780', 'CX-542'] 10h 55m HKG 125 533.12\n",
      "CX-780 Cathay Pacific 7 KG 2024-03-21T08:20:00 Cathay Pacific 7 KG 2024-03-21T08:20:00 Juanda International Airport 2024-03-22T13:45:00 Haneda Airport ['CX-780', 'CX-548'] 27h 25m HKG 1115 826.8800000000001\n",
      "SQ-927 All Nippon Airways 7 KG 2024-03-21T16:30:00 All Nippon Airways 7 KG 2024-03-21T16:30:00 Juanda International Airport 2024-03-22T05:55:00 Haneda Airport ['SQ-927', 'NH-844'] 11h 25m SIN 145 957.44\n",
      "GA-319 China United Airlines 7 KG 2024-03-21T19:55:00 China United Airlines 7 KG 2024-03-21T19:55:00 Juanda International Airport 2024-03-22T08:50:00 Haneda Airport ['GA-319', 'JL-5012'] 10h 55m CGK 120 979.2\n",
      "GA-315 All Nippon Airways 7 KG 2024-03-21T16:30:00 All Nippon Airways 7 KG 2024-03-21T16:30:00 Juanda International Airport 2024-03-22T06:50:00 Haneda Airport ['GA-315', 'NH-856'] 12h 20m CGK 215 1025.44\n",
      "NH-5542 All Nippon Airways 7 KG 2024-03-21T16:30:00 All Nippon Airways 7 KG 2024-03-21T16:30:00 Juanda International Airport 2024-03-22T06:50:00 Haneda Airport ['NH-5542', 'NH-856'] 12h 20m CGK 215 1033.6000000000001\n",
      "GA-319 All Nippon Airways 7 KG 2024-03-21T19:55:00 All Nippon Airways 7 KG 2024-03-21T19:55:00 Juanda International Airport 2024-03-22T16:25:00 Haneda Airport ['GA-319', 'NH-872'] 18h 30m CGK 580 1049.92\n",
      "SQ-929 Singapore International Airlines 7 KG 2024-03-21T18:40:00 Singapore International Airlines 7 KG 2024-03-21T18:40:00 Juanda International Airport 2024-03-22T06:20:00 Haneda Airport ['SQ-929', 'SQ-636'] 09h 40m SIN 50 1104.3200000000002\n",
      "SQ-929 Singapore International Airlines 7 KG 2024-03-21T18:40:00 Singapore International Airlines 7 KG 2024-03-21T18:40:00 Juanda International Airport 2024-03-22T15:35:00 Haneda Airport ['SQ-929', 'SQ-632'] 18h 55m SIN 610 1104.3200000000002\n",
      "SQ-929 Singapore International Airlines 7 KG 2024-03-21T18:40:00 Singapore International Airlines 7 KG 2024-03-21T18:40:00 Juanda International Airport 2024-03-22T21:40:00 Haneda Airport ['SQ-929', 'SQ-634'] 25h 00m SIN 970 1104.3200000000002\n",
      "GA-319 Gadair European Airlines 7 KG 2024-03-21T19:55:00 Gadair European Airlines 7 KG 2024-03-21T19:55:00 Juanda International Airport 2024-03-22T08:50:00 Haneda Airport ['GA-319', 'GA-874'] 10h 55m CGK 120 1286.5600000000002\n",
      "GA-319 All Nippon Airways 7 KG 2024-03-21T19:55:00 All Nippon Airways 7 KG 2024-03-21T19:55:00 Juanda International Airport 2024-03-22T08:50:00 Haneda Airport ['GA-319', 'NH-5480'] 10h 55m CGK 120 2083.52\n",
      "NH-5542 All Nippon Airways 7 KG 2024-03-21T16:30:00 All Nippon Airways 7 KG 2024-03-21T16:30:00 Juanda International Airport 2024-03-22T08:50:00 Haneda Airport ['NH-5542', 'NH-5480'] 14h 20m CGK 325 2091.6800000000003\n",
      "JL-6912 China United Airlines 7 KG 2024-03-21T18:40:00 China United Airlines 7 KG 2024-03-21T18:40:00 Juanda International Airport 2024-03-22T08:50:00 Haneda Airport ['JL-6912', 'JL-5012'] 12h 10m CGK 200 2110.7200000000003\n",
      "BI-796 Cathay Pacific 7 KG 2024-03-21T05:55:00 Cathay Pacific 7 KG 2024-03-21T05:55:00 Juanda International Airport 2024-03-21T20:25:00 Haneda Airport ['BI-796', 'BI-635', 'CX-6320'] 12h 30m BWN 80 2513.28\n",
      "BI-796 Cathay Pacific 7 KG 2024-03-21T05:55:00 Cathay Pacific 7 KG 2024-03-21T05:55:00 Juanda International Airport 2024-03-21T21:15:00 Haneda Airport ['BI-796', 'BI-635', 'CX-542'] 13h 20m BWN 80 2513.28\n",
      "CX-780 Cathay Pacific 7 KG 2024-03-21T08:20:00 Cathay Pacific 7 KG 2024-03-21T08:20:00 Juanda International Airport 2024-03-21T23:30:00 Haneda Airport ['CX-780', 'CX-502', 'NH-100'] 13h 10m HKG 135 2548.6400000000003\n",
      "SQ-929 Singapore International Airlines 7 KG 2024-03-21T18:40:00 Singapore International Airlines 7 KG 2024-03-21T18:40:00 Juanda International Airport 2024-03-22T11:40:00 Haneda Airport ['SQ-929', 'SQ-656', 'JL-308'] 15h 00m SIN 205 3788.9600000000005\n",
      "GA-317 Singapore International Airlines 7 KG 2024-03-21T13:35:00 Singapore International Airlines 7 KG 2024-03-21T13:35:00 Juanda International Airport 2024-03-22T06:20:00 Haneda Airport ['GA-317', 'SQ-965', 'SQ-636'] 14h 45m CGK 230 3797.1200000000003\n"
     ]
    }
   ],
   "source": [
    "for i in data:\n",
    "    print(i['flight_code'],i['flight_name'], i['departureAirport']['time'],i['flight_name'], i['baggage']['cabin']['text'], i['departureAirport']['time'],i['departureAirport']['label'],i['arrivalAirport']['time'],i['arrivalAirport']['label'], i['path'],i['duration']['text'],i['stopSummary']['0']['airport'],i['stopSummary']['0']['stopDuration'], i['totals']['total'])"
   ]
  },
  {
   "cell_type": "code",
   "execution_count": null,
   "metadata": {},
   "outputs": [],
   "source": []
  },
  {
   "cell_type": "markdown",
   "metadata": {},
   "source": [
    "Exchange API"
   ]
  },
  {
   "cell_type": "code",
   "execution_count": 30,
   "metadata": {},
   "outputs": [
    {
     "name": "stdout",
     "output_type": "stream",
     "text": [
      "15665\n"
     ]
    }
   ],
   "source": [
    "import requests\n",
    "\n",
    "url = \"https://currency-exchange.p.rapidapi.com/exchange\"\n",
    "\n",
    "querystring = {\"from\":\"USD\",\"to\":\"IDR\",\"q\":\"1\"}\n",
    "\n",
    "headers = {\n",
    "\t\"X-RapidAPI-Key\": \"9cc8be294bmsh502182750eb8c0dp1d1afcjsn7c3940e4e5b5\",\n",
    "\t\"X-RapidAPI-Host\": \"currency-exchange.p.rapidapi.com\"\n",
    "}\n",
    "\n",
    "response = requests.get(url, headers=headers, params=querystring)\n",
    "\n",
    "print(response.json())"
   ]
  },
  {
   "cell_type": "markdown",
   "metadata": {},
   "source": [
    "API IATA CODE"
   ]
  },
  {
   "cell_type": "code",
   "execution_count": 1,
   "metadata": {},
   "outputs": [
    {
     "name": "stdout",
     "output_type": "stream",
     "text": [
      "{'results': [{'isActive': True, 'AirportName': 'All Airports', 'city': 'Tokyo', 'country': 'Japan', 'AirportCode': 'TYO', 'citycode': None, 'lat': '35.689444', 'long': '139.691667', 'timzone': '9', 'cityunicode': 'U', 'zone': 'Asia/Tokyo', 'CountryCode': 'JP', 'id': '61e07352e2f371d6f4906bb6'}, {'isActive': True, 'AirportName': 'Narita International Airport', 'city': 'Tokyo', 'country': 'Japan', 'AirportCode': 'NRT', 'citycode': 'RJAA', 'lat': '35.76470184', 'long': '140.3860016', 'timzone': '9', 'cityunicode': 'U', 'zone': 'Asia/Tokyo', 'CountryCode': 'JP', 'id': '61e0734be2f371d6f4905c18'}, {'isActive': True, 'AirportName': 'Tokyo Haneda International Airport', 'city': 'Tokyo', 'country': 'Japan', 'AirportCode': 'HND', 'citycode': 'RJTT', 'lat': '35.552299', 'long': '139.779999', 'timzone': '9', 'cityunicode': 'U', 'zone': 'Asia/Tokyo', 'CountryCode': 'JP', 'id': '61e0734be2f371d6f4905c52'}], 'page': 1, 'limit': 20, 'totalPages': 1, 'totalResults': 3}\n"
     ]
    }
   ],
   "source": [
    "import requests\n",
    "\n",
    "url = \"https://world-airports-directory.p.rapidapi.com/v1/airports/Tokyo\"\n",
    "\n",
    "querystring = {\"page\":\"1\",\"limit\":\"20\",\"sortBy\":\"AirportName:asc\"}\n",
    "\n",
    "headers = {\n",
    "\t\"X-RapidAPI-Key\": \"9cc8be294bmsh502182750eb8c0dp1d1afcjsn7c3940e4e5b5\",\n",
    "\t\"X-RapidAPI-Host\": \"world-airports-directory.p.rapidapi.com\"\n",
    "}\n",
    "\n",
    "response = requests.get(url, headers=headers, params=querystring)\n",
    "\n",
    "print(response.json())"
   ]
  },
  {
   "cell_type": "code",
   "execution_count": 4,
   "metadata": {},
   "outputs": [
    {
     "name": "stdout",
     "output_type": "stream",
     "text": [
      "3\n"
     ]
    }
   ],
   "source": [
    "iata=response.json()\n",
    "iata=iata['results']\n",
    "# iata=iata['results'][1]['AirportCode']\n",
    "print(len(iata))"
   ]
  },
  {
   "cell_type": "code",
   "execution_count": null,
   "metadata": {},
   "outputs": [],
   "source": []
  },
  {
   "cell_type": "code",
   "execution_count": 5,
   "metadata": {},
   "outputs": [
    {
     "name": "stdout",
     "output_type": "stream",
     "text": [
      "{'results': [{'isActive': True, 'AirportName': 'Juanda International Airport', 'city': 'Surabaya', 'country': 'Indonesia', 'AirportCode': 'SUB', 'citycode': 'WARR', 'lat': '-7.379829884', 'long': '112.7870026', 'timzone': '7', 'cityunicode': 'N', 'zone': 'Asia/Jakarta', 'CountryCode': 'ID', 'id': '61e07350e2f371d6f4906180'}], 'page': 1, 'limit': 20, 'totalPages': 1, 'totalResults': 1}\n"
     ]
    }
   ],
   "source": [
    "import requests\n",
    "\n",
    "url = \"https://world-airports-directory.p.rapidapi.com/v1/airports/Surabaya\"\n",
    "\n",
    "querystring = {\"page\":\"1\",\"limit\":\"20\",\"sortBy\":\"AirportName:asc\"}\n",
    "\n",
    "headers = {\n",
    "\t\"X-RapidAPI-Key\": \"9cc8be294bmsh502182750eb8c0dp1d1afcjsn7c3940e4e5b5\",\n",
    "\t\"X-RapidAPI-Host\": \"world-airports-directory.p.rapidapi.com\"\n",
    "}\n",
    "\n",
    "response = requests.get(url, headers=headers, params=querystring)\n",
    "\n",
    "print(response.json())"
   ]
  },
  {
   "cell_type": "code",
   "execution_count": 6,
   "metadata": {},
   "outputs": [
    {
     "name": "stdout",
     "output_type": "stream",
     "text": [
      "1\n"
     ]
    }
   ],
   "source": [
    "iata=response.json()\n",
    "iata=iata['results']\n",
    "# iata=iata['results'][1]['AirportCode']\n",
    "print(len(iata))"
   ]
  },
  {
   "cell_type": "code",
   "execution_count": 2,
   "metadata": {},
   "outputs": [],
   "source": [
    "        import requests\n",
    "        url = \"https://currency-exchange.p.rapidapi.com/exchange\"\n",
    "\n",
    "        querystring = {\"from\":\"USD\",\"to\":\"IDR\",\"q\":\"1.0\"}\n",
    "\n",
    "        headers = {\n",
    "            \"X-RapidAPI-Key\": \"9cc8be294bmsh502182750eb8c0dp1d1afcjsn7c3940e4e5b5\",\n",
    "            \"X-RapidAPI-Host\": \"currency-exchange.p.rapidapi.com\"\n",
    "        }\n",
    "\n",
    "        response_ex = requests.get(url, headers=headers, params=querystring)\n",
    "        exchange_rate=response_ex.json()"
   ]
  },
  {
   "cell_type": "code",
   "execution_count": 3,
   "metadata": {},
   "outputs": [
    {
     "name": "stdout",
     "output_type": "stream",
     "text": [
      "15517\n"
     ]
    }
   ],
   "source": [
    "print(exchange_rate)"
   ]
  },
  {
   "cell_type": "code",
   "execution_count": 4,
   "metadata": {},
   "outputs": [
    {
     "name": "stdout",
     "output_type": "stream",
     "text": [
      "<class 'int'>\n"
     ]
    }
   ],
   "source": [
    "print(type(exchange_rate))"
   ]
  },
  {
   "cell_type": "code",
   "execution_count": 7,
   "metadata": {},
   "outputs": [],
   "source": [
    "        url = \"https://flight-fare-search.p.rapidapi.com/v2/flights/\"\n",
    "\n",
    "        querystring = {f\"from\":\"SUB\",\"to\":\"HND\",\"date\":\"2024/03/23\",\"adult\":\"1\",\"child\":\"0\",\"infant\":\"0\",\"type\":\"economy\",\"currency\":\"USD\"}\n",
    "        # querystring = {f\"from\":{From},\"to\":{to},\"date\":{date},\"adult\":{adult},\"child\":{child},\"infant\":\"0\",\"type\":\"economy\",\"currency\":\"USD\"}\n",
    "        headers = {\n",
    "            \"X-RapidAPI-Key\": \"9cc8be294bmsh502182750eb8c0dp1d1afcjsn7c3940e4e5b5\",\n",
    "            \"X-RapidAPI-Host\": \"flight-fare-search.p.rapidapi.com\"\n",
    "        }\n",
    "\n",
    "        response_flight = requests.get(url, headers=headers, params=querystring)\n",
    "\n",
    "        flight=response_flight.json()\n",
    "        flight=flight['results']"
   ]
  },
  {
   "cell_type": "code",
   "execution_count": 14,
   "metadata": {},
   "outputs": [
    {
     "name": "stdout",
     "output_type": "stream",
     "text": [
      "9061928\n",
      "13158416\n",
      "16075612\n",
      "16448020\n",
      "16572156\n",
      "20172100\n",
      "21103120\n",
      "21103120\n",
      "21103120\n",
      "21103120\n",
      "21103120\n",
      "21103120\n",
      "21103120\n",
      "32740870\n",
      "32865006\n",
      "39785588\n"
     ]
    }
   ],
   "source": [
    "for i in flight:\n",
    "    i['totals']['total']=int(i['totals']['total'])\n",
    "    print((i['totals']['total'])*exchange_rate)"
   ]
  },
  {
   "cell_type": "code",
   "execution_count": 36,
   "metadata": {},
   "outputs": [],
   "source": [
    "import requests\n",
    "\n",
    "url = \"https://world-airports-directory.p.rapidapi.com/v1/airports/Sydney\"\n",
    "\n",
    "querystring = {\"page\":\"1\",\"limit\":\"20\",\"sortBy\":\"AirportName:asc\"}\n",
    "\n",
    "headers = {\n",
    "\t\"X-RapidAPI-Key\": \"9cc8be294bmsh502182750eb8c0dp1d1afcjsn7c3940e4e5b5\",\n",
    "\t\"X-RapidAPI-Host\": \"world-airports-directory.p.rapidapi.com\"\n",
    "}\n",
    "\n",
    "response_kode = requests.get(url, headers=headers, params=querystring)\n",
    "\n",
    "kode=response_kode.json()"
   ]
  },
  {
   "cell_type": "code",
   "execution_count": 37,
   "metadata": {},
   "outputs": [],
   "source": [
    "kode=kode['results']"
   ]
  },
  {
   "cell_type": "code",
   "execution_count": 38,
   "metadata": {},
   "outputs": [
    {
     "name": "stdout",
     "output_type": "stream",
     "text": [
      "{'isActive': True, 'AirportName': 'Rose Bay Airport', 'city': 'Sydney', 'country': 'Australia', 'AirportCode': 'RSE', 'citycode': None, 'lat': '-33.8666667', 'long': '151.2666667', 'timzone': '10', 'cityunicode': 'O', 'zone': None, 'CountryCode': 'AU', 'id': '61e07353e2f371d6f4906e32'}\n",
      "{'isActive': True, 'AirportName': 'Sydney / J.A. Douglas McCurdy Airport', 'city': 'Sydney', 'country': 'Canada', 'AirportCode': 'YQY', 'citycode': 'CYQY', 'lat': '46.1614', 'long': '-60.047798', 'timzone': '-4', 'cityunicode': 'A', 'zone': 'America/Halifax', 'CountryCode': 'CA', 'id': '61e07347e2f371d6f49055d8'}\n",
      "{'isActive': True, 'AirportName': 'Sydney Bankstown Airport', 'city': 'Sydney', 'country': 'Australia', 'AirportCode': 'BWU', 'citycode': 'YSBK', 'lat': '-33.92440033', 'long': '150.9880066', 'timzone': '10', 'cityunicode': 'O', 'zone': 'Australia/Sydney', 'CountryCode': 'AU', 'id': '61e0734ee2f371d6f4905f65'}\n",
      "{'isActive': True, 'AirportName': 'Sydney Kingsford Smith International Airport', 'city': 'Sydney', 'country': 'Australia', 'AirportCode': 'SYD', 'citycode': 'YSSY', 'lat': '-33.94609833', 'long': '151.177002', 'timzone': '10', 'cityunicode': 'O', 'zone': 'Australia/Sydney', 'CountryCode': 'AU', 'id': '61e0734ee2f371d6f4905f6c'}\n"
     ]
    }
   ],
   "source": [
    "for i in kode:\n",
    "    print(i)"
   ]
  },
  {
   "cell_type": "code",
   "execution_count": 39,
   "metadata": {},
   "outputs": [
    {
     "name": "stdout",
     "output_type": "stream",
     "text": [
      "{'isActive': True, 'AirportName': 'Sydney Kingsford Smith International Airport', 'city': 'Sydney', 'country': 'Australia', 'AirportCode': 'SYD', 'citycode': 'YSSY', 'lat': '-33.94609833', 'long': '151.177002', 'timzone': '10', 'cityunicode': 'O', 'zone': 'Australia/Sydney', 'CountryCode': 'AU', 'id': '61e0734ee2f371d6f4905f6c'}\n"
     ]
    }
   ],
   "source": [
    "print(kode[3])"
   ]
  },
  {
   "cell_type": "code",
   "execution_count": 1,
   "metadata": {},
   "outputs": [
    {
     "name": "stdout",
     "output_type": "stream",
     "text": [
      "{'text': 'The New England Patriots won Super Bowl LIII in 2019 by defeating the Los Angeles Rams with a score of 13-3.', 'finish_reason': 'stop', 'model': 'gpt-3.5-turbo-030', 'server': 'backup-K'}\n"
     ]
    }
   ],
   "source": [
    "import requests\n",
    "\n",
    "url = \"https://chatgpt-api8.p.rapidapi.com/\"\n",
    "\n",
    "payload = [\n",
    "\t{\n",
    "\t\t\"content\": \"Hello! I'm an AI assistant bot based on ChatGPT 3. How may I help you?\",\n",
    "\t\t\"role\": \"system\"\n",
    "\t},\n",
    "\t{\n",
    "\t\t\"content\": \"who won the super bowl 2019?\",\n",
    "\t\t\"role\": \"user\"\n",
    "\t}\n",
    "]\n",
    "headers = {\n",
    "\t\"content-type\": \"application/json\",\n",
    "\t\"X-RapidAPI-Key\": \"9cc8be294bmsh502182750eb8c0dp1d1afcjsn7c3940e4e5b5\",\n",
    "\t\"X-RapidAPI-Host\": \"chatgpt-api8.p.rapidapi.com\"\n",
    "}\n",
    "\n",
    "response = requests.post(url, json=payload, headers=headers)\n",
    "\n",
    "print(response.json())"
   ]
  }
 ],
 "metadata": {
  "kernelspec": {
   "display_name": "Python 3",
   "language": "python",
   "name": "python3"
  },
  "language_info": {
   "codemirror_mode": {
    "name": "ipython",
    "version": 3
   },
   "file_extension": ".py",
   "mimetype": "text/x-python",
   "name": "python",
   "nbconvert_exporter": "python",
   "pygments_lexer": "ipython3",
   "version": "3.10.4"
  }
 },
 "nbformat": 4,
 "nbformat_minor": 2
}
